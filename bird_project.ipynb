{
 "cells": [
  {
   "cell_type": "markdown",
   "id": "3ad2f109",
   "metadata": {},
   "source": [
    "## **Merging sheets to single dataframe** "
   ]
  },
  {
   "cell_type": "code",
   "execution_count": 19,
   "id": "77e2fbc2",
   "metadata": {},
   "outputs": [],
   "source": [
    "import pandas as pd\n",
    "# Specify the file path\n",
    "file_path = \"bird_forest.XLSX\"\n",
    "\n",
    "# Read the Excel file with multiple sheets\n",
    "excel_data = pd.ExcelFile(file_path)\n",
    "\n",
    "# Get all sheet names\n",
    "sheet_names = excel_data.sheet_names\n",
    "\n",
    "# Read data from all sheets into a dictionary\n",
    "sheets_dict = {sheet: excel_data.parse(sheet) for sheet in sheet_names}"
   ]
  },
  {
   "cell_type": "code",
   "execution_count": 20,
   "id": "8deb2390",
   "metadata": {},
   "outputs": [],
   "source": [
    "# Example: Convert sheets_dict to a single DataFrame; this will add a new sheet column at the last.\n",
    "forest_df = pd.concat(\n",
    "    [df.assign(Sheet=sheet_name) for sheet_name, df in sheets_dict.items()],\n",
    "    ignore_index=True\n",
    ")"
   ]
  },
  {
   "cell_type": "code",
   "execution_count": 21,
   "id": "9cc7261b",
   "metadata": {},
   "outputs": [
    {
     "name": "stdout",
     "output_type": "stream",
     "text": [
      "<class 'pandas.core.frame.DataFrame'>\n",
      "RangeIndex: 8546 entries, 0 to 8545\n",
      "Data columns (total 30 columns):\n",
      " #   Column                       Non-Null Count  Dtype         \n",
      "---  ------                       --------------  -----         \n",
      " 0   Admin_Unit_Code              8546 non-null   object        \n",
      " 1   Sub_Unit_Code                722 non-null    object        \n",
      " 2   Site_Name                    8546 non-null   object        \n",
      " 3   Plot_Name                    8546 non-null   object        \n",
      " 4   Location_Type                8546 non-null   object        \n",
      " 5   Year                         8546 non-null   int64         \n",
      " 6   Date                         8546 non-null   datetime64[ns]\n",
      " 7   Start_Time                   8546 non-null   object        \n",
      " 8   End_Time                     8546 non-null   object        \n",
      " 9   Observer                     8546 non-null   object        \n",
      " 10  Visit                        8546 non-null   int64         \n",
      " 11  Interval_Length              8546 non-null   object        \n",
      " 12  ID_Method                    8545 non-null   object        \n",
      " 13  Distance                     8454 non-null   object        \n",
      " 14  Flyover_Observed             8546 non-null   bool          \n",
      " 15  Sex                          3363 non-null   object        \n",
      " 16  Common_Name                  8546 non-null   object        \n",
      " 17  Scientific_Name              8546 non-null   object        \n",
      " 18  AcceptedTSN                  8537 non-null   float64       \n",
      " 19  NPSTaxonCode                 8546 non-null   int64         \n",
      " 20  AOU_Code                     8546 non-null   object        \n",
      " 21  PIF_Watchlist_Status         8546 non-null   bool          \n",
      " 22  Regional_Stewardship_Status  8546 non-null   bool          \n",
      " 23  Temperature                  8546 non-null   float64       \n",
      " 24  Humidity                     8546 non-null   float64       \n",
      " 25  Sky                          8546 non-null   object        \n",
      " 26  Wind                         8546 non-null   object        \n",
      " 27  Disturbance                  8546 non-null   object        \n",
      " 28  Initial_Three_Min_Cnt        8546 non-null   bool          \n",
      " 29  Sheet                        8546 non-null   object        \n",
      "dtypes: bool(4), datetime64[ns](1), float64(3), int64(3), object(19)\n",
      "memory usage: 1.7+ MB\n"
     ]
    }
   ],
   "source": [
    "forest_df.info()"
   ]
  },
  {
   "cell_type": "code",
   "execution_count": 22,
   "id": "29cab113",
   "metadata": {},
   "outputs": [],
   "source": [
    "import pandas as pd\n",
    "# Specify the file path\n",
    "file_path = \"bird_grassland.XLSX\"\n",
    "\n",
    "# Read the Excel file with multiple sheets\n",
    "excel_data1 = pd.ExcelFile(file_path)\n",
    "\n",
    "# Get all sheet names\n",
    "sheet_names1 = excel_data1.sheet_names\n",
    "\n",
    "# Read data from all sheets into a dictionary\n",
    "sheets_dict1 = {sheet: excel_data1.parse(sheet) for sheet in sheet_names1}"
   ]
  },
  {
   "cell_type": "code",
   "execution_count": 23,
   "id": "c69f3170",
   "metadata": {},
   "outputs": [
    {
     "name": "stderr",
     "output_type": "stream",
     "text": [
      "C:\\Users\\Boobalan\\AppData\\Local\\Temp\\ipykernel_20008\\3329147304.py:2: FutureWarning: The behavior of DataFrame concatenation with empty or all-NA entries is deprecated. In a future version, this will no longer exclude empty or all-NA columns when determining the result dtypes. To retain the old behavior, exclude the relevant entries before the concat operation.\n",
      "  grassland_df = pd.concat(\n"
     ]
    }
   ],
   "source": [
    "# Example: Convert sheets_dict to a single DataFrame; this will add a new sheet column at the last.\n",
    "grassland_df = pd.concat(\n",
    "    [df.assign(Sheet=sheet_name) for sheet_name, df in sheets_dict1.items()],\n",
    "    ignore_index=True\n",
    ")"
   ]
  },
  {
   "cell_type": "code",
   "execution_count": 24,
   "id": "6ce3ed27",
   "metadata": {},
   "outputs": [
    {
     "name": "stdout",
     "output_type": "stream",
     "text": [
      "<class 'pandas.core.frame.DataFrame'>\n",
      "RangeIndex: 8531 entries, 0 to 8530\n",
      "Data columns (total 30 columns):\n",
      " #   Column                       Non-Null Count  Dtype         \n",
      "---  ------                       --------------  -----         \n",
      " 0   Admin_Unit_Code              8531 non-null   object        \n",
      " 1   Sub_Unit_Code                0 non-null      object        \n",
      " 2   Plot_Name                    8531 non-null   object        \n",
      " 3   Location_Type                8531 non-null   object        \n",
      " 4   Year                         8531 non-null   object        \n",
      " 5   Date                         8531 non-null   datetime64[ns]\n",
      " 6   Start_Time                   8531 non-null   object        \n",
      " 7   End_Time                     8531 non-null   object        \n",
      " 8   Observer                     8531 non-null   object        \n",
      " 9   Visit                        8531 non-null   object        \n",
      " 10  Interval_Length              8531 non-null   object        \n",
      " 11  ID_Method                    8530 non-null   object        \n",
      " 12  Distance                     7137 non-null   object        \n",
      " 13  Flyover_Observed             8531 non-null   object        \n",
      " 14  Sex                          8531 non-null   object        \n",
      " 15  Common_Name                  8531 non-null   object        \n",
      " 16  Scientific_Name              8531 non-null   object        \n",
      " 17  AcceptedTSN                  8507 non-null   float64       \n",
      " 18  TaxonCode                    8529 non-null   float64       \n",
      " 19  AOU_Code                     8531 non-null   object        \n",
      " 20  PIF_Watchlist_Status         8531 non-null   object        \n",
      " 21  Regional_Stewardship_Status  8531 non-null   object        \n",
      " 22  Temperature                  8531 non-null   float64       \n",
      " 23  Humidity                     8531 non-null   float64       \n",
      " 24  Sky                          8531 non-null   object        \n",
      " 25  Wind                         8531 non-null   object        \n",
      " 26  Disturbance                  8531 non-null   object        \n",
      " 27  Previously_Obs               8531 non-null   object        \n",
      " 28  Initial_Three_Min_Cnt        8531 non-null   object        \n",
      " 29  Sheet                        8531 non-null   object        \n",
      "dtypes: datetime64[ns](1), float64(4), object(25)\n",
      "memory usage: 2.0+ MB\n"
     ]
    }
   ],
   "source": [
    "grassland_df.info()"
   ]
  },
  {
   "cell_type": "markdown",
   "id": "881c3af9",
   "metadata": {},
   "source": [
    "## **Merge dataframes**"
   ]
  },
  {
   "cell_type": "code",
   "execution_count": 25,
   "id": "94bea175",
   "metadata": {},
   "outputs": [],
   "source": [
    "merged_df = pd.concat([forest_df, grassland_df], ignore_index=True)"
   ]
  },
  {
   "cell_type": "code",
   "execution_count": 26,
   "id": "e4af3c91",
   "metadata": {},
   "outputs": [
    {
     "data": {
      "text/html": [
       "<div>\n",
       "<style scoped>\n",
       "    .dataframe tbody tr th:only-of-type {\n",
       "        vertical-align: middle;\n",
       "    }\n",
       "\n",
       "    .dataframe tbody tr th {\n",
       "        vertical-align: top;\n",
       "    }\n",
       "\n",
       "    .dataframe thead th {\n",
       "        text-align: right;\n",
       "    }\n",
       "</style>\n",
       "<table border=\"1\" class=\"dataframe\">\n",
       "  <thead>\n",
       "    <tr style=\"text-align: right;\">\n",
       "      <th></th>\n",
       "      <th>Admin_Unit_Code</th>\n",
       "      <th>Sub_Unit_Code</th>\n",
       "      <th>Site_Name</th>\n",
       "      <th>Plot_Name</th>\n",
       "      <th>Location_Type</th>\n",
       "      <th>Year</th>\n",
       "      <th>Date</th>\n",
       "      <th>Start_Time</th>\n",
       "      <th>End_Time</th>\n",
       "      <th>Observer</th>\n",
       "      <th>...</th>\n",
       "      <th>Regional_Stewardship_Status</th>\n",
       "      <th>Temperature</th>\n",
       "      <th>Humidity</th>\n",
       "      <th>Sky</th>\n",
       "      <th>Wind</th>\n",
       "      <th>Disturbance</th>\n",
       "      <th>Initial_Three_Min_Cnt</th>\n",
       "      <th>Sheet</th>\n",
       "      <th>TaxonCode</th>\n",
       "      <th>Previously_Obs</th>\n",
       "    </tr>\n",
       "  </thead>\n",
       "  <tbody>\n",
       "    <tr>\n",
       "      <th>0</th>\n",
       "      <td>ANTI</td>\n",
       "      <td>NaN</td>\n",
       "      <td>ANTI 1</td>\n",
       "      <td>ANTI-0036</td>\n",
       "      <td>Forest</td>\n",
       "      <td>2018</td>\n",
       "      <td>2018-05-22</td>\n",
       "      <td>06:19:00</td>\n",
       "      <td>06:29:00</td>\n",
       "      <td>Elizabeth Oswald</td>\n",
       "      <td>...</td>\n",
       "      <td>True</td>\n",
       "      <td>19.9</td>\n",
       "      <td>79.400002</td>\n",
       "      <td>Cloudy/Overcast</td>\n",
       "      <td>Calm (&lt; 1 mph) smoke rises vertically</td>\n",
       "      <td>No effect on count</td>\n",
       "      <td>True</td>\n",
       "      <td>ANTI</td>\n",
       "      <td>NaN</td>\n",
       "      <td>NaN</td>\n",
       "    </tr>\n",
       "    <tr>\n",
       "      <th>1</th>\n",
       "      <td>ANTI</td>\n",
       "      <td>NaN</td>\n",
       "      <td>ANTI 1</td>\n",
       "      <td>ANTI-0036</td>\n",
       "      <td>Forest</td>\n",
       "      <td>2018</td>\n",
       "      <td>2018-05-22</td>\n",
       "      <td>06:19:00</td>\n",
       "      <td>06:29:00</td>\n",
       "      <td>Elizabeth Oswald</td>\n",
       "      <td>...</td>\n",
       "      <td>False</td>\n",
       "      <td>19.9</td>\n",
       "      <td>79.400002</td>\n",
       "      <td>Cloudy/Overcast</td>\n",
       "      <td>Calm (&lt; 1 mph) smoke rises vertically</td>\n",
       "      <td>No effect on count</td>\n",
       "      <td>True</td>\n",
       "      <td>ANTI</td>\n",
       "      <td>NaN</td>\n",
       "      <td>NaN</td>\n",
       "    </tr>\n",
       "    <tr>\n",
       "      <th>2</th>\n",
       "      <td>ANTI</td>\n",
       "      <td>NaN</td>\n",
       "      <td>ANTI 1</td>\n",
       "      <td>ANTI-0036</td>\n",
       "      <td>Forest</td>\n",
       "      <td>2018</td>\n",
       "      <td>2018-05-22</td>\n",
       "      <td>06:19:00</td>\n",
       "      <td>06:29:00</td>\n",
       "      <td>Elizabeth Oswald</td>\n",
       "      <td>...</td>\n",
       "      <td>False</td>\n",
       "      <td>19.9</td>\n",
       "      <td>79.400002</td>\n",
       "      <td>Cloudy/Overcast</td>\n",
       "      <td>Calm (&lt; 1 mph) smoke rises vertically</td>\n",
       "      <td>No effect on count</td>\n",
       "      <td>False</td>\n",
       "      <td>ANTI</td>\n",
       "      <td>NaN</td>\n",
       "      <td>NaN</td>\n",
       "    </tr>\n",
       "    <tr>\n",
       "      <th>3</th>\n",
       "      <td>ANTI</td>\n",
       "      <td>NaN</td>\n",
       "      <td>ANTI 1</td>\n",
       "      <td>ANTI-0036</td>\n",
       "      <td>Forest</td>\n",
       "      <td>2018</td>\n",
       "      <td>2018-05-22</td>\n",
       "      <td>06:19:00</td>\n",
       "      <td>06:29:00</td>\n",
       "      <td>Elizabeth Oswald</td>\n",
       "      <td>...</td>\n",
       "      <td>False</td>\n",
       "      <td>19.9</td>\n",
       "      <td>79.400002</td>\n",
       "      <td>Cloudy/Overcast</td>\n",
       "      <td>Calm (&lt; 1 mph) smoke rises vertically</td>\n",
       "      <td>No effect on count</td>\n",
       "      <td>False</td>\n",
       "      <td>ANTI</td>\n",
       "      <td>NaN</td>\n",
       "      <td>NaN</td>\n",
       "    </tr>\n",
       "    <tr>\n",
       "      <th>4</th>\n",
       "      <td>ANTI</td>\n",
       "      <td>NaN</td>\n",
       "      <td>ANTI 1</td>\n",
       "      <td>ANTI-0036</td>\n",
       "      <td>Forest</td>\n",
       "      <td>2018</td>\n",
       "      <td>2018-05-22</td>\n",
       "      <td>06:19:00</td>\n",
       "      <td>06:29:00</td>\n",
       "      <td>Elizabeth Oswald</td>\n",
       "      <td>...</td>\n",
       "      <td>False</td>\n",
       "      <td>19.9</td>\n",
       "      <td>79.400002</td>\n",
       "      <td>Cloudy/Overcast</td>\n",
       "      <td>Calm (&lt; 1 mph) smoke rises vertically</td>\n",
       "      <td>No effect on count</td>\n",
       "      <td>False</td>\n",
       "      <td>ANTI</td>\n",
       "      <td>NaN</td>\n",
       "      <td>NaN</td>\n",
       "    </tr>\n",
       "  </tbody>\n",
       "</table>\n",
       "<p>5 rows × 32 columns</p>\n",
       "</div>"
      ],
      "text/plain": [
       "  Admin_Unit_Code Sub_Unit_Code Site_Name  Plot_Name Location_Type  Year  \\\n",
       "0            ANTI           NaN    ANTI 1  ANTI-0036        Forest  2018   \n",
       "1            ANTI           NaN    ANTI 1  ANTI-0036        Forest  2018   \n",
       "2            ANTI           NaN    ANTI 1  ANTI-0036        Forest  2018   \n",
       "3            ANTI           NaN    ANTI 1  ANTI-0036        Forest  2018   \n",
       "4            ANTI           NaN    ANTI 1  ANTI-0036        Forest  2018   \n",
       "\n",
       "        Date Start_Time  End_Time          Observer  ...  \\\n",
       "0 2018-05-22   06:19:00  06:29:00  Elizabeth Oswald  ...   \n",
       "1 2018-05-22   06:19:00  06:29:00  Elizabeth Oswald  ...   \n",
       "2 2018-05-22   06:19:00  06:29:00  Elizabeth Oswald  ...   \n",
       "3 2018-05-22   06:19:00  06:29:00  Elizabeth Oswald  ...   \n",
       "4 2018-05-22   06:19:00  06:29:00  Elizabeth Oswald  ...   \n",
       "\n",
       "  Regional_Stewardship_Status Temperature   Humidity              Sky  \\\n",
       "0                        True        19.9  79.400002  Cloudy/Overcast   \n",
       "1                       False        19.9  79.400002  Cloudy/Overcast   \n",
       "2                       False        19.9  79.400002  Cloudy/Overcast   \n",
       "3                       False        19.9  79.400002  Cloudy/Overcast   \n",
       "4                       False        19.9  79.400002  Cloudy/Overcast   \n",
       "\n",
       "                                    Wind         Disturbance  \\\n",
       "0  Calm (< 1 mph) smoke rises vertically  No effect on count   \n",
       "1  Calm (< 1 mph) smoke rises vertically  No effect on count   \n",
       "2  Calm (< 1 mph) smoke rises vertically  No effect on count   \n",
       "3  Calm (< 1 mph) smoke rises vertically  No effect on count   \n",
       "4  Calm (< 1 mph) smoke rises vertically  No effect on count   \n",
       "\n",
       "  Initial_Three_Min_Cnt Sheet  TaxonCode  Previously_Obs  \n",
       "0                  True  ANTI        NaN             NaN  \n",
       "1                  True  ANTI        NaN             NaN  \n",
       "2                 False  ANTI        NaN             NaN  \n",
       "3                 False  ANTI        NaN             NaN  \n",
       "4                 False  ANTI        NaN             NaN  \n",
       "\n",
       "[5 rows x 32 columns]"
      ]
     },
     "execution_count": 26,
     "metadata": {},
     "output_type": "execute_result"
    }
   ],
   "source": [
    "merged_df.head()"
   ]
  },
  {
   "cell_type": "code",
   "execution_count": 27,
   "id": "2a5c269d",
   "metadata": {},
   "outputs": [
    {
     "data": {
      "text/plain": [
       "(17077, 32)"
      ]
     },
     "execution_count": 27,
     "metadata": {},
     "output_type": "execute_result"
    }
   ],
   "source": [
    "merged_df.shape"
   ]
  },
  {
   "cell_type": "code",
   "execution_count": 28,
   "id": "9f280b05",
   "metadata": {},
   "outputs": [
    {
     "name": "stdout",
     "output_type": "stream",
     "text": [
      "<class 'pandas.core.frame.DataFrame'>\n",
      "RangeIndex: 17077 entries, 0 to 17076\n",
      "Data columns (total 32 columns):\n",
      " #   Column                       Non-Null Count  Dtype         \n",
      "---  ------                       --------------  -----         \n",
      " 0   Admin_Unit_Code              17077 non-null  object        \n",
      " 1   Sub_Unit_Code                722 non-null    object        \n",
      " 2   Site_Name                    8546 non-null   object        \n",
      " 3   Plot_Name                    17077 non-null  object        \n",
      " 4   Location_Type                17077 non-null  object        \n",
      " 5   Year                         17077 non-null  object        \n",
      " 6   Date                         17077 non-null  datetime64[ns]\n",
      " 7   Start_Time                   17077 non-null  object        \n",
      " 8   End_Time                     17077 non-null  object        \n",
      " 9   Observer                     17077 non-null  object        \n",
      " 10  Visit                        17077 non-null  object        \n",
      " 11  Interval_Length              17077 non-null  object        \n",
      " 12  ID_Method                    17075 non-null  object        \n",
      " 13  Distance                     15591 non-null  object        \n",
      " 14  Flyover_Observed             17077 non-null  object        \n",
      " 15  Sex                          11894 non-null  object        \n",
      " 16  Common_Name                  17077 non-null  object        \n",
      " 17  Scientific_Name              17077 non-null  object        \n",
      " 18  AcceptedTSN                  17044 non-null  float64       \n",
      " 19  NPSTaxonCode                 8546 non-null   float64       \n",
      " 20  AOU_Code                     17077 non-null  object        \n",
      " 21  PIF_Watchlist_Status         17077 non-null  object        \n",
      " 22  Regional_Stewardship_Status  17077 non-null  object        \n",
      " 23  Temperature                  17077 non-null  float64       \n",
      " 24  Humidity                     17077 non-null  float64       \n",
      " 25  Sky                          17077 non-null  object        \n",
      " 26  Wind                         17077 non-null  object        \n",
      " 27  Disturbance                  17077 non-null  object        \n",
      " 28  Initial_Three_Min_Cnt        17077 non-null  object        \n",
      " 29  Sheet                        17077 non-null  object        \n",
      " 30  TaxonCode                    8529 non-null   float64       \n",
      " 31  Previously_Obs               8531 non-null   object        \n",
      "dtypes: datetime64[ns](1), float64(5), object(26)\n",
      "memory usage: 4.2+ MB\n"
     ]
    }
   ],
   "source": [
    "merged_df.info()"
   ]
  },
  {
   "cell_type": "code",
   "execution_count": 29,
   "id": "2172c399",
   "metadata": {},
   "outputs": [
    {
     "data": {
      "text/plain": [
       "Index(['Admin_Unit_Code', 'Sub_Unit_Code', 'Site_Name', 'Plot_Name',\n",
       "       'Location_Type', 'Year', 'Date', 'Start_Time', 'End_Time', 'Observer',\n",
       "       'Visit', 'Interval_Length', 'ID_Method', 'Distance', 'Flyover_Observed',\n",
       "       'Sex', 'Common_Name', 'Scientific_Name', 'AcceptedTSN', 'NPSTaxonCode',\n",
       "       'AOU_Code', 'PIF_Watchlist_Status', 'Regional_Stewardship_Status',\n",
       "       'Temperature', 'Humidity', 'Sky', 'Wind', 'Disturbance',\n",
       "       'Initial_Three_Min_Cnt', 'Sheet', 'TaxonCode', 'Previously_Obs'],\n",
       "      dtype='object')"
      ]
     },
     "execution_count": 29,
     "metadata": {},
     "output_type": "execute_result"
    }
   ],
   "source": [
    "merged_df.columns "
   ]
  },
  {
   "cell_type": "code",
   "execution_count": 30,
   "id": "0d59576a",
   "metadata": {},
   "outputs": [],
   "source": [
    "merged_df = merged_df.drop(columns=['Sheet'])"
   ]
  },
  {
   "cell_type": "code",
   "execution_count": 31,
   "id": "5893e3c5",
   "metadata": {},
   "outputs": [
    {
     "name": "stdout",
     "output_type": "stream",
     "text": [
      "<class 'pandas.core.frame.DataFrame'>\n",
      "RangeIndex: 17077 entries, 0 to 17076\n",
      "Data columns (total 31 columns):\n",
      " #   Column                       Non-Null Count  Dtype         \n",
      "---  ------                       --------------  -----         \n",
      " 0   Admin_Unit_Code              17077 non-null  object        \n",
      " 1   Sub_Unit_Code                722 non-null    object        \n",
      " 2   Site_Name                    8546 non-null   object        \n",
      " 3   Plot_Name                    17077 non-null  object        \n",
      " 4   Location_Type                17077 non-null  object        \n",
      " 5   Year                         17077 non-null  object        \n",
      " 6   Date                         17077 non-null  datetime64[ns]\n",
      " 7   Start_Time                   17077 non-null  object        \n",
      " 8   End_Time                     17077 non-null  object        \n",
      " 9   Observer                     17077 non-null  object        \n",
      " 10  Visit                        17077 non-null  object        \n",
      " 11  Interval_Length              17077 non-null  object        \n",
      " 12  ID_Method                    17075 non-null  object        \n",
      " 13  Distance                     15591 non-null  object        \n",
      " 14  Flyover_Observed             17077 non-null  object        \n",
      " 15  Sex                          11894 non-null  object        \n",
      " 16  Common_Name                  17077 non-null  object        \n",
      " 17  Scientific_Name              17077 non-null  object        \n",
      " 18  AcceptedTSN                  17044 non-null  float64       \n",
      " 19  NPSTaxonCode                 8546 non-null   float64       \n",
      " 20  AOU_Code                     17077 non-null  object        \n",
      " 21  PIF_Watchlist_Status         17077 non-null  object        \n",
      " 22  Regional_Stewardship_Status  17077 non-null  object        \n",
      " 23  Temperature                  17077 non-null  float64       \n",
      " 24  Humidity                     17077 non-null  float64       \n",
      " 25  Sky                          17077 non-null  object        \n",
      " 26  Wind                         17077 non-null  object        \n",
      " 27  Disturbance                  17077 non-null  object        \n",
      " 28  Initial_Three_Min_Cnt        17077 non-null  object        \n",
      " 29  TaxonCode                    8529 non-null   float64       \n",
      " 30  Previously_Obs               8531 non-null   object        \n",
      "dtypes: datetime64[ns](1), float64(5), object(25)\n",
      "memory usage: 4.0+ MB\n"
     ]
    }
   ],
   "source": [
    "merged_df.info()"
   ]
  },
  {
   "cell_type": "code",
   "execution_count": 32,
   "id": "68565ad4",
   "metadata": {},
   "outputs": [
    {
     "data": {
      "text/plain": [
       "Admin_Unit_Code                    0\n",
       "Sub_Unit_Code                  16355\n",
       "Site_Name                       8531\n",
       "Plot_Name                          0\n",
       "Location_Type                      0\n",
       "Year                               0\n",
       "Date                               0\n",
       "Start_Time                         0\n",
       "End_Time                           0\n",
       "Observer                           0\n",
       "Visit                              0\n",
       "Interval_Length                    0\n",
       "ID_Method                          2\n",
       "Distance                        1486\n",
       "Flyover_Observed                   0\n",
       "Sex                             5183\n",
       "Common_Name                        0\n",
       "Scientific_Name                    0\n",
       "AcceptedTSN                       33\n",
       "NPSTaxonCode                    8531\n",
       "AOU_Code                           0\n",
       "PIF_Watchlist_Status               0\n",
       "Regional_Stewardship_Status        0\n",
       "Temperature                        0\n",
       "Humidity                           0\n",
       "Sky                                0\n",
       "Wind                               0\n",
       "Disturbance                        0\n",
       "Initial_Three_Min_Cnt              0\n",
       "TaxonCode                       8548\n",
       "Previously_Obs                  8546\n",
       "dtype: int64"
      ]
     },
     "execution_count": 32,
     "metadata": {},
     "output_type": "execute_result"
    }
   ],
   "source": [
    "merged_df.isnull().sum()"
   ]
  },
  {
   "cell_type": "code",
   "execution_count": 33,
   "id": "6976f889",
   "metadata": {},
   "outputs": [],
   "source": [
    "merged_df.to_excel('output_bird.xlsx', index=False)"
   ]
  },
  {
   "cell_type": "code",
   "execution_count": 34,
   "id": "ea4e74ee",
   "metadata": {},
   "outputs": [],
   "source": [
    "import pandas as pd\n",
    "\n",
    "df_out = pd.read_excel('output_bird.xlsx')"
   ]
  },
  {
   "cell_type": "code",
   "execution_count": 35,
   "id": "2226f0ac",
   "metadata": {},
   "outputs": [
    {
     "name": "stdout",
     "output_type": "stream",
     "text": [
      "<class 'pandas.core.frame.DataFrame'>\n",
      "RangeIndex: 17077 entries, 0 to 17076\n",
      "Data columns (total 31 columns):\n",
      " #   Column                       Non-Null Count  Dtype         \n",
      "---  ------                       --------------  -----         \n",
      " 0   Admin_Unit_Code              17077 non-null  object        \n",
      " 1   Sub_Unit_Code                722 non-null    object        \n",
      " 2   Site_Name                    8546 non-null   object        \n",
      " 3   Plot_Name                    17077 non-null  object        \n",
      " 4   Location_Type                17077 non-null  object        \n",
      " 5   Year                         17077 non-null  int64         \n",
      " 6   Date                         17077 non-null  datetime64[ns]\n",
      " 7   Start_Time                   17077 non-null  object        \n",
      " 8   End_Time                     17077 non-null  object        \n",
      " 9   Observer                     17077 non-null  object        \n",
      " 10  Visit                        17077 non-null  int64         \n",
      " 11  Interval_Length              17077 non-null  object        \n",
      " 12  ID_Method                    17075 non-null  object        \n",
      " 13  Distance                     15591 non-null  object        \n",
      " 14  Flyover_Observed             17077 non-null  bool          \n",
      " 15  Sex                          11894 non-null  object        \n",
      " 16  Common_Name                  17077 non-null  object        \n",
      " 17  Scientific_Name              17077 non-null  object        \n",
      " 18  AcceptedTSN                  17044 non-null  float64       \n",
      " 19  NPSTaxonCode                 8546 non-null   float64       \n",
      " 20  AOU_Code                     17077 non-null  object        \n",
      " 21  PIF_Watchlist_Status         17077 non-null  bool          \n",
      " 22  Regional_Stewardship_Status  17077 non-null  bool          \n",
      " 23  Temperature                  17077 non-null  float64       \n",
      " 24  Humidity                     17077 non-null  float64       \n",
      " 25  Sky                          17077 non-null  object        \n",
      " 26  Wind                         17077 non-null  object        \n",
      " 27  Disturbance                  17077 non-null  object        \n",
      " 28  Initial_Three_Min_Cnt        17077 non-null  bool          \n",
      " 29  TaxonCode                    8529 non-null   float64       \n",
      " 30  Previously_Obs               8531 non-null   float64       \n",
      "dtypes: bool(4), datetime64[ns](1), float64(6), int64(2), object(18)\n",
      "memory usage: 3.6+ MB\n"
     ]
    }
   ],
   "source": [
    "df_out.info()"
   ]
  },
  {
   "cell_type": "markdown",
   "id": "5ac8aaf0",
   "metadata": {},
   "source": [
    "### since most of the dtypes are objects, lets look  deep into the data of each column and convert it accordingly(eg.. category, boolean, etc..,)"
   ]
  },
  {
   "cell_type": "code",
   "execution_count": 36,
   "id": "a42c9e11",
   "metadata": {},
   "outputs": [
    {
     "data": {
      "text/plain": [
       "{'ANTI': 3921,\n",
       " 'MONO': 3385,\n",
       " 'PRWI': 2463,\n",
       " 'MANA': 2276,\n",
       " 'CHOH': 2202,\n",
       " 'CATO': 805,\n",
       " 'NACE': 684,\n",
       " 'HAFE': 539,\n",
       " 'GWMP': 386,\n",
       " 'ROCR': 289,\n",
       " 'WOTR': 127}"
      ]
     },
     "execution_count": 36,
     "metadata": {},
     "output_type": "execute_result"
    }
   ],
   "source": [
    "Admin_Unit_Code_counts = df_out['Admin_Unit_Code'].value_counts().to_dict()\n",
    "Admin_Unit_Code_counts"
   ]
  },
  {
   "cell_type": "code",
   "execution_count": 37,
   "id": "b7cea1aa",
   "metadata": {},
   "outputs": [],
   "source": [
    "df_out['Admin_Unit_Code'] = df_out['Admin_Unit_Code'].astype('category')"
   ]
  },
  {
   "cell_type": "code",
   "execution_count": 38,
   "id": "e6c270af",
   "metadata": {},
   "outputs": [
    {
     "data": {
      "text/plain": [
       "array([nan, 'THIS', 'GREE', 'PISC', 'FOWA', 'OXHI', 'ANAC', 'FOCI',\n",
       "       'FODU'], dtype=object)"
      ]
     },
     "execution_count": 38,
     "metadata": {},
     "output_type": "execute_result"
    }
   ],
   "source": [
    "df_out['Sub_Unit_Code'].unique()"
   ]
  },
  {
   "cell_type": "code",
   "execution_count": 39,
   "id": "d41e96e6",
   "metadata": {},
   "outputs": [
    {
     "data": {
      "text/plain": [
       "70"
      ]
     },
     "execution_count": 39,
     "metadata": {},
     "output_type": "execute_result"
    }
   ],
   "source": [
    "df_out['Site_Name'].unique()\n",
    "df_out['Site_Name'].nunique()"
   ]
  },
  {
   "cell_type": "code",
   "execution_count": 40,
   "id": "f5406668",
   "metadata": {},
   "outputs": [
    {
     "data": {
      "text/plain": [
       "609"
      ]
     },
     "execution_count": 40,
     "metadata": {},
     "output_type": "execute_result"
    }
   ],
   "source": [
    "df_out['Plot_Name'].nunique()"
   ]
  },
  {
   "cell_type": "code",
   "execution_count": 41,
   "id": "779fea59",
   "metadata": {},
   "outputs": [
    {
     "data": {
      "text/plain": [
       "array(['Forest', 'Grassland'], dtype=object)"
      ]
     },
     "execution_count": 41,
     "metadata": {},
     "output_type": "execute_result"
    }
   ],
   "source": [
    "\n",
    "df_out['Location_Type'].unique()"
   ]
  },
  {
   "cell_type": "code",
   "execution_count": 42,
   "id": "3f25de24",
   "metadata": {},
   "outputs": [
    {
     "data": {
      "text/plain": [
       "2"
      ]
     },
     "execution_count": 42,
     "metadata": {},
     "output_type": "execute_result"
    }
   ],
   "source": [
    "df_out['Location_Type'].nunique()"
   ]
  },
  {
   "cell_type": "code",
   "execution_count": 43,
   "id": "800eaaa4",
   "metadata": {},
   "outputs": [],
   "source": [
    "df_out['Location_Type'] = df_out['Location_Type'].astype('category')"
   ]
  },
  {
   "cell_type": "code",
   "execution_count": 44,
   "id": "176a8f79",
   "metadata": {},
   "outputs": [
    {
     "name": "stdout",
     "output_type": "stream",
     "text": [
      "Observation year range: 2018 to 2018\n"
     ]
    }
   ],
   "source": [
    "min_year = df_out['Year'].min()\n",
    "max_year = df_out['Year'].max()\n",
    "\n",
    "print(f\"Observation year range: {min_year} to {max_year}\")"
   ]
  },
  {
   "cell_type": "code",
   "execution_count": 45,
   "id": "3f625d0b",
   "metadata": {},
   "outputs": [
    {
     "name": "stdout",
     "output_type": "stream",
     "text": [
      "Start Date: 2018-05-07\n",
      "End Date: 2018-07-19\n"
     ]
    }
   ],
   "source": [
    "start_date = df_out['Date'].min()\n",
    "end_date = df_out['Date'].max()\n",
    "\n",
    "print(f\"Start Date: {start_date.date()}\")\n",
    "print(f\"End Date: {end_date.date()}\")"
   ]
  },
  {
   "cell_type": "code",
   "execution_count": 46,
   "id": "2d52d134",
   "metadata": {},
   "outputs": [
    {
     "data": {
      "text/plain": [
       "3"
      ]
     },
     "execution_count": 46,
     "metadata": {},
     "output_type": "execute_result"
    }
   ],
   "source": [
    "df_out['Observer'].nunique()"
   ]
  },
  {
   "cell_type": "code",
   "execution_count": 47,
   "id": "e03e4633",
   "metadata": {},
   "outputs": [
    {
     "data": {
      "text/plain": [
       "array(['Elizabeth Oswald', 'Kimberly Serno', 'Brian Swimelar'],\n",
       "      dtype=object)"
      ]
     },
     "execution_count": 47,
     "metadata": {},
     "output_type": "execute_result"
    }
   ],
   "source": [
    "df_out['Observer'].unique()"
   ]
  },
  {
   "cell_type": "code",
   "execution_count": 48,
   "id": "0ffc6cd4",
   "metadata": {},
   "outputs": [
    {
     "data": {
      "text/plain": [
       "3"
      ]
     },
     "execution_count": 48,
     "metadata": {},
     "output_type": "execute_result"
    }
   ],
   "source": [
    "\n",
    "df_out['Visit'].nunique()"
   ]
  },
  {
   "cell_type": "code",
   "execution_count": 49,
   "id": "947b4833",
   "metadata": {},
   "outputs": [
    {
     "data": {
      "text/plain": [
       "array([1, 2, 3])"
      ]
     },
     "execution_count": 49,
     "metadata": {},
     "output_type": "execute_result"
    }
   ],
   "source": [
    "df_out['Visit'].unique()"
   ]
  },
  {
   "cell_type": "code",
   "execution_count": 50,
   "id": "49f2bd0a",
   "metadata": {},
   "outputs": [
    {
     "data": {
      "text/plain": [
       "array(['0-2.5 min', '2.5 - 5 min', '5 - 7.5 min', '7.5 - 10 min'],\n",
       "      dtype=object)"
      ]
     },
     "execution_count": 50,
     "metadata": {},
     "output_type": "execute_result"
    }
   ],
   "source": [
    "df_out['Interval_Length'].unique()"
   ]
  },
  {
   "cell_type": "code",
   "execution_count": 51,
   "id": "5e31ac78",
   "metadata": {},
   "outputs": [
    {
     "data": {
      "text/plain": [
       "4"
      ]
     },
     "execution_count": 51,
     "metadata": {},
     "output_type": "execute_result"
    }
   ],
   "source": [
    "df_out['Interval_Length'].nunique()"
   ]
  },
  {
   "cell_type": "code",
   "execution_count": 52,
   "id": "5915c010",
   "metadata": {},
   "outputs": [],
   "source": [
    "# Define your replacement mapping\n",
    "interval_mapping = {\n",
    "    '0-2.5 min': '0–2.5',\n",
    "    '2.5 - 5 min': '2.5–5',\n",
    "    '5 - 7.5 min': '5–7.5',\n",
    "    '7.5 - 10 min': '7.5–10'\n",
    "}\n",
    "\n",
    "# Replace the labels in-place\n",
    "df_out['Interval_Length'] = df_out['Interval_Length'].replace(interval_mapping)\n"
   ]
  },
  {
   "cell_type": "code",
   "execution_count": 53,
   "id": "0a545513",
   "metadata": {},
   "outputs": [],
   "source": [
    "df_out['Interval_Length'] = df_out['Interval_Length'].astype('category')"
   ]
  },
  {
   "cell_type": "code",
   "execution_count": 54,
   "id": "15a1dffa",
   "metadata": {},
   "outputs": [
    {
     "data": {
      "text/plain": [
       "array(['Singing', 'Calling', 'Visualization', nan], dtype=object)"
      ]
     },
     "execution_count": 54,
     "metadata": {},
     "output_type": "execute_result"
    }
   ],
   "source": [
    "df_out['ID_Method'].unique()"
   ]
  },
  {
   "cell_type": "code",
   "execution_count": 55,
   "id": "97c14920",
   "metadata": {},
   "outputs": [],
   "source": [
    "# Optional: Rename or standardize values if needed\n",
    "behavior_mapping = {\n",
    "    'Singing': 'Singing',\n",
    "    'Calling': 'Calling',\n",
    "    'Visualization': 'Visual',\n",
    "    # You can add more mappings here if needed\n",
    "}\n",
    "\n",
    "# Replace values using the mapping\n",
    "df_out['ID_Method'] = df_out['ID_Method'].replace(behavior_mapping)\n",
    "\n",
    "# Convert to categorical (unordered)\n",
    "df_out['ID_Method'] = df_out['ID_Method'].astype('category')\n"
   ]
  },
  {
   "cell_type": "code",
   "execution_count": 56,
   "id": "a1c52c35",
   "metadata": {},
   "outputs": [
    {
     "data": {
      "text/plain": [
       "np.int64(17075)"
      ]
     },
     "execution_count": 56,
     "metadata": {},
     "output_type": "execute_result"
    }
   ],
   "source": [
    "df_out['ID_Method'].notnull().sum()"
   ]
  },
  {
   "cell_type": "code",
   "execution_count": 57,
   "id": "54931ce3",
   "metadata": {},
   "outputs": [],
   "source": [
    "# Define a function to get mode or fallback if mode is missing\n",
    "def mode_or_unknown(x):\n",
    "    return x.mode().iloc[0] if not x.mode().empty else 'Unknown'\n",
    "\n",
    "# Apply group-wise imputation\n",
    "df_out['ID_Method'] = df_out.groupby('Scientific_Name')['ID_Method'].transform(\n",
    "    lambda x: x.fillna(mode_or_unknown(x))\n",
    ")\n"
   ]
  },
  {
   "cell_type": "code",
   "execution_count": 58,
   "id": "3be4d5ab",
   "metadata": {},
   "outputs": [
    {
     "data": {
      "text/plain": [
       "np.int64(17077)"
      ]
     },
     "execution_count": 58,
     "metadata": {},
     "output_type": "execute_result"
    }
   ],
   "source": [
    "df_out['ID_Method'].notnull().sum()"
   ]
  },
  {
   "cell_type": "code",
   "execution_count": 59,
   "id": "75e2e7d6",
   "metadata": {},
   "outputs": [
    {
     "data": {
      "text/plain": [
       "array(['<= 50 Meters', '50 - 100 Meters', nan], dtype=object)"
      ]
     },
     "execution_count": 59,
     "metadata": {},
     "output_type": "execute_result"
    }
   ],
   "source": [
    "\n",
    "df_out['Distance'].unique()"
   ]
  },
  {
   "cell_type": "code",
   "execution_count": 60,
   "id": "76f5a24a",
   "metadata": {},
   "outputs": [
    {
     "data": {
      "text/plain": [
       "np.int64(15591)"
      ]
     },
     "execution_count": 60,
     "metadata": {},
     "output_type": "execute_result"
    }
   ],
   "source": [
    "df_out['Distance'].notnull().sum()"
   ]
  },
  {
   "cell_type": "code",
   "execution_count": 61,
   "id": "cef3a214",
   "metadata": {},
   "outputs": [],
   "source": [
    "distance_mapping = {\n",
    "    '<= 50 Meters': 'less than 50',\n",
    "    '50 - 100 Meters': 'more than 50'\n",
    "}\n",
    "\n",
    "df_out['Distance'] = df_out['Distance'].replace(distance_mapping)\n",
    "#replace() leaves NaN untouched by default ,Only replaces the specified strings"
   ]
  },
  {
   "cell_type": "code",
   "execution_count": 62,
   "id": "23ef6f5c",
   "metadata": {},
   "outputs": [],
   "source": [
    "df_out['Distance'] = df_out['Distance'].astype('category')"
   ]
  },
  {
   "cell_type": "code",
   "execution_count": 63,
   "id": "f9f42184",
   "metadata": {},
   "outputs": [],
   "source": [
    "# Step 1: Add 'Unknown' to the Distance category list (if not already present)\n",
    "df_out['Distance'] = df_out['Distance'].cat.add_categories(['Unknown'])\n",
    "\n",
    "# Step 2: Fill NaNs using mode per species, defaulting to 'Unknown'\n",
    "def mode_or_unknown(x):\n",
    "    return x.mode().iloc[0] if not x.mode().empty else 'Unknown'\n",
    "\n",
    "df_out['Distance'] = df_out.groupby('Scientific_Name')['Distance'].transform(\n",
    "    lambda x: x.fillna(mode_or_unknown(x))\n",
    ")"
   ]
  },
  {
   "cell_type": "code",
   "execution_count": 64,
   "id": "75c3e03d",
   "metadata": {},
   "outputs": [
    {
     "name": "stdout",
     "output_type": "stream",
     "text": [
      "Sex            Female  Male  Undetermined\n",
      "Location_Type                            \n",
      "Forest              0    59          3304\n",
      "Grassland         146  3279          5106\n"
     ]
    },
    {
     "name": "stderr",
     "output_type": "stream",
     "text": [
      "C:\\Users\\Boobalan\\AppData\\Local\\Temp\\ipykernel_20008\\3017513686.py:1: FutureWarning: The default of observed=False is deprecated and will be changed to True in a future version of pandas. Pass observed=False to retain current behavior or observed=True to adopt the future default and silence this warning.\n",
      "  sex_by_landtype = df_out.groupby('Location_Type')['Sex'].value_counts().unstack(fill_value=0)\n"
     ]
    }
   ],
   "source": [
    "sex_by_landtype = df_out.groupby('Location_Type')['Sex'].value_counts().unstack(fill_value=0)\n",
    "print(sex_by_landtype)"
   ]
  },
  {
   "cell_type": "code",
   "execution_count": 65,
   "id": "d8ea1fd5",
   "metadata": {},
   "outputs": [],
   "source": [
    "df_out['Sex'] = df_out['Sex'].fillna('Undetermined')"
   ]
  },
  {
   "cell_type": "code",
   "execution_count": 66,
   "id": "3bb52509",
   "metadata": {},
   "outputs": [],
   "source": [
    "# Temp and Humidity \n",
    "df_out['Temperature'] = df_out['Temperature'].round(2)\n",
    "df_out['Humidity'] = df_out['Humidity'].round(2)"
   ]
  },
  {
   "cell_type": "code",
   "execution_count": 67,
   "id": "c7115be8",
   "metadata": {},
   "outputs": [
    {
     "data": {
      "text/plain": [
       "array(['Cloudy/Overcast', 'Mist/Drizzle', 'Partly Cloudy',\n",
       "       'Clear or Few Clouds', 'Fog'], dtype=object)"
      ]
     },
     "execution_count": 67,
     "metadata": {},
     "output_type": "execute_result"
    }
   ],
   "source": [
    "df_out['Sky'].unique()"
   ]
  },
  {
   "cell_type": "code",
   "execution_count": 68,
   "id": "307f75a7",
   "metadata": {},
   "outputs": [],
   "source": [
    "sky_mapping = {\n",
    "    'Clear or Few Clouds': 'Clear',\n",
    "    'Partly Cloudy': 'Partly_Cloudy',\n",
    "    'Cloudy/Overcast': 'Cloudy',\n",
    "    'Mist/Drizzle': 'Drizzle',\n",
    "    'Fog': 'Fog'\n",
    "}\n",
    "\n",
    "# Replace and convert to categorical\n",
    "df_out['Sky'] = df_out['Sky'].replace(sky_mapping)\n",
    "df_out['Sky'] = df_out['Sky'].astype('category')\n"
   ]
  },
  {
   "cell_type": "code",
   "execution_count": 69,
   "id": "199c3244",
   "metadata": {},
   "outputs": [
    {
     "data": {
      "text/plain": [
       "{'Light air movement (1-3 mph) smoke drifts': 8511,\n",
       " 'Calm (< 1 mph) smoke rises vertically': 4417,\n",
       " 'Light breeze (4-7 mph) wind felt on face': 3737,\n",
       " 'Gentle breeze (8-12 mph), leaves in motion': 412}"
      ]
     },
     "execution_count": 69,
     "metadata": {},
     "output_type": "execute_result"
    }
   ],
   "source": [
    "wind_counts = df_out['Wind'].value_counts().to_dict()\n",
    "wind_counts"
   ]
  },
  {
   "cell_type": "code",
   "execution_count": 70,
   "id": "ab4d81cf",
   "metadata": {},
   "outputs": [],
   "source": [
    "# Define mapping from long descriptions to short category names\n",
    "wind_mapping = {\n",
    "    'Light air movement (1-3 mph) smoke drifts': 'light_air',\n",
    "    'Calm (< 1 mph) smoke rises vertically': 'calm',\n",
    "    'Light breeze (4-7 mph) wind felt on face': 'light_breeze',\n",
    "    'Gentle breeze (8-12 mph), leaves in motion': 'gentle_breeze'\n",
    "}"
   ]
  },
  {
   "cell_type": "code",
   "execution_count": 71,
   "id": "bd30322a",
   "metadata": {},
   "outputs": [],
   "source": [
    "# Replace the values using the mapping\n",
    "df_out['Wind'] = df_out['Wind'].replace(wind_mapping)\n",
    "\n",
    "# Convert to category\n",
    "df_out['Wind'] = df_out['Wind'].astype('category')"
   ]
  },
  {
   "cell_type": "code",
   "execution_count": 72,
   "id": "a68a439a",
   "metadata": {},
   "outputs": [
    {
     "data": {
      "text/plain": [
       "array(['No effect on count', 'Moderate effect on count',\n",
       "       'Slight effect on count', 'Serious effect on count'], dtype=object)"
      ]
     },
     "execution_count": 72,
     "metadata": {},
     "output_type": "execute_result"
    }
   ],
   "source": [
    "\n",
    "df_out['Disturbance'].unique()"
   ]
  },
  {
   "cell_type": "code",
   "execution_count": 73,
   "id": "f132b60f",
   "metadata": {},
   "outputs": [],
   "source": [
    "# Step 1: Rename the column\n",
    "df_out = df_out.rename(columns={'Disturbance': 'Disturbance_on_count'})"
   ]
  },
  {
   "cell_type": "code",
   "execution_count": 74,
   "id": "b51705d4",
   "metadata": {},
   "outputs": [],
   "source": [
    "# Step 2: Create shorthand mapping\n",
    "disturbance_mapping = {\n",
    "    'No effect on count': 'No_effect',\n",
    "    'Slight effect on count': 'Slight',\n",
    "    'Moderate effect on count': 'Moderate',\n",
    "    'Serious effect on count': 'Serious'\n",
    "}"
   ]
  },
  {
   "cell_type": "code",
   "execution_count": 75,
   "id": "de3e9b79",
   "metadata": {},
   "outputs": [],
   "source": [
    "# Step 3: Replace values using mapping\n",
    "df_out['Disturbance_on_count'] = df_out['Disturbance_on_count'].replace(disturbance_mapping)\n",
    "\n",
    "# Step 4: Convert to categorical\n",
    "df_out['Disturbance_on_count'] = df_out['Disturbance_on_count'].astype('category')"
   ]
  },
  {
   "cell_type": "code",
   "execution_count": 76,
   "id": "557e57ad",
   "metadata": {},
   "outputs": [
    {
     "data": {
      "text/plain": [
       "['No_effect', 'Moderate', 'Slight', 'Serious']\n",
       "Categories (4, object): ['Moderate', 'No_effect', 'Serious', 'Slight']"
      ]
     },
     "execution_count": 76,
     "metadata": {},
     "output_type": "execute_result"
    }
   ],
   "source": [
    "df_out['Disturbance_on_count'].unique()"
   ]
  },
  {
   "cell_type": "code",
   "execution_count": 77,
   "id": "aa2fa0bc",
   "metadata": {},
   "outputs": [
    {
     "data": {
      "text/plain": [
       "array([nan,  0.])"
      ]
     },
     "execution_count": 77,
     "metadata": {},
     "output_type": "execute_result"
    }
   ],
   "source": [
    "df_out['Previously_Obs'].unique()"
   ]
  },
  {
   "cell_type": "code",
   "execution_count": 78,
   "id": "61503cfe",
   "metadata": {},
   "outputs": [
    {
     "data": {
      "text/plain": [
       "np.int64(8546)"
      ]
     },
     "execution_count": 78,
     "metadata": {},
     "output_type": "execute_result"
    }
   ],
   "source": [
    "df_out['Previously_Obs'].isna().sum()"
   ]
  },
  {
   "cell_type": "code",
   "execution_count": 79,
   "id": "ebff6949",
   "metadata": {},
   "outputs": [
    {
     "data": {
      "text/plain": [
       "np.int64(8531)"
      ]
     },
     "execution_count": 79,
     "metadata": {},
     "output_type": "execute_result"
    }
   ],
   "source": [
    "df_out['Previously_Obs'].notna().sum()"
   ]
  },
  {
   "cell_type": "code",
   "execution_count": 80,
   "id": "aaef12f5",
   "metadata": {},
   "outputs": [],
   "source": [
    "df_out.drop(columns=['NPSTaxonCode', 'Previously_Obs', 'TaxonCode'], inplace=True)"
   ]
  },
  {
   "cell_type": "code",
   "execution_count": 81,
   "id": "d01ee8fd",
   "metadata": {},
   "outputs": [
    {
     "name": "stdout",
     "output_type": "stream",
     "text": [
      "<class 'pandas.core.frame.DataFrame'>\n",
      "RangeIndex: 17077 entries, 0 to 17076\n",
      "Data columns (total 28 columns):\n",
      " #   Column                       Non-Null Count  Dtype         \n",
      "---  ------                       --------------  -----         \n",
      " 0   Admin_Unit_Code              17077 non-null  category      \n",
      " 1   Sub_Unit_Code                722 non-null    object        \n",
      " 2   Site_Name                    8546 non-null   object        \n",
      " 3   Plot_Name                    17077 non-null  object        \n",
      " 4   Location_Type                17077 non-null  category      \n",
      " 5   Year                         17077 non-null  int64         \n",
      " 6   Date                         17077 non-null  datetime64[ns]\n",
      " 7   Start_Time                   17077 non-null  object        \n",
      " 8   End_Time                     17077 non-null  object        \n",
      " 9   Observer                     17077 non-null  object        \n",
      " 10  Visit                        17077 non-null  int64         \n",
      " 11  Interval_Length              17077 non-null  category      \n",
      " 12  ID_Method                    17077 non-null  category      \n",
      " 13  Distance                     17077 non-null  category      \n",
      " 14  Flyover_Observed             17077 non-null  bool          \n",
      " 15  Sex                          17077 non-null  object        \n",
      " 16  Common_Name                  17077 non-null  object        \n",
      " 17  Scientific_Name              17077 non-null  object        \n",
      " 18  AcceptedTSN                  17044 non-null  float64       \n",
      " 19  AOU_Code                     17077 non-null  object        \n",
      " 20  PIF_Watchlist_Status         17077 non-null  bool          \n",
      " 21  Regional_Stewardship_Status  17077 non-null  bool          \n",
      " 22  Temperature                  17077 non-null  float64       \n",
      " 23  Humidity                     17077 non-null  float64       \n",
      " 24  Sky                          17077 non-null  category      \n",
      " 25  Wind                         17077 non-null  category      \n",
      " 26  Disturbance_on_count         17077 non-null  category      \n",
      " 27  Initial_Three_Min_Cnt        17077 non-null  bool          \n",
      "dtypes: bool(4), category(8), datetime64[ns](1), float64(3), int64(2), object(10)\n",
      "memory usage: 2.3+ MB\n"
     ]
    }
   ],
   "source": [
    "df_out.info()"
   ]
  },
  {
   "cell_type": "code",
   "execution_count": 82,
   "id": "e20246ae",
   "metadata": {},
   "outputs": [
    {
     "data": {
      "text/plain": [
       "126"
      ]
     },
     "execution_count": 82,
     "metadata": {},
     "output_type": "execute_result"
    }
   ],
   "source": [
    "df_out['AOU_Code'].nunique()"
   ]
  },
  {
   "cell_type": "code",
   "execution_count": 83,
   "id": "4c6a2279",
   "metadata": {},
   "outputs": [
    {
     "data": {
      "text/plain": [
       "np.int64(1709)"
      ]
     },
     "execution_count": 83,
     "metadata": {},
     "output_type": "execute_result"
    }
   ],
   "source": [
    "df_out.duplicated().sum()"
   ]
  },
  {
   "cell_type": "code",
   "execution_count": 84,
   "id": "18b77b95",
   "metadata": {},
   "outputs": [],
   "source": [
    "df_out.drop_duplicates(inplace=True)"
   ]
  },
  {
   "cell_type": "code",
   "execution_count": 85,
   "id": "c5239b8c",
   "metadata": {},
   "outputs": [
    {
     "name": "stdout",
     "output_type": "stream",
     "text": [
      "<class 'pandas.core.frame.DataFrame'>\n",
      "Index: 15368 entries, 0 to 17067\n",
      "Data columns (total 28 columns):\n",
      " #   Column                       Non-Null Count  Dtype         \n",
      "---  ------                       --------------  -----         \n",
      " 0   Admin_Unit_Code              15368 non-null  category      \n",
      " 1   Sub_Unit_Code                721 non-null    object        \n",
      " 2   Site_Name                    8542 non-null   object        \n",
      " 3   Plot_Name                    15368 non-null  object        \n",
      " 4   Location_Type                15368 non-null  category      \n",
      " 5   Year                         15368 non-null  int64         \n",
      " 6   Date                         15368 non-null  datetime64[ns]\n",
      " 7   Start_Time                   15368 non-null  object        \n",
      " 8   End_Time                     15368 non-null  object        \n",
      " 9   Observer                     15368 non-null  object        \n",
      " 10  Visit                        15368 non-null  int64         \n",
      " 11  Interval_Length              15368 non-null  category      \n",
      " 12  ID_Method                    15368 non-null  category      \n",
      " 13  Distance                     15368 non-null  category      \n",
      " 14  Flyover_Observed             15368 non-null  bool          \n",
      " 15  Sex                          15368 non-null  object        \n",
      " 16  Common_Name                  15368 non-null  object        \n",
      " 17  Scientific_Name              15368 non-null  object        \n",
      " 18  AcceptedTSN                  15340 non-null  float64       \n",
      " 19  AOU_Code                     15368 non-null  object        \n",
      " 20  PIF_Watchlist_Status         15368 non-null  bool          \n",
      " 21  Regional_Stewardship_Status  15368 non-null  bool          \n",
      " 22  Temperature                  15368 non-null  float64       \n",
      " 23  Humidity                     15368 non-null  float64       \n",
      " 24  Sky                          15368 non-null  category      \n",
      " 25  Wind                         15368 non-null  category      \n",
      " 26  Disturbance_on_count         15368 non-null  category      \n",
      " 27  Initial_Three_Min_Cnt        15368 non-null  bool          \n",
      "dtypes: bool(4), category(8), datetime64[ns](1), float64(3), int64(2), object(10)\n",
      "memory usage: 2.2+ MB\n"
     ]
    }
   ],
   "source": [
    "df_out.info()"
   ]
  },
  {
   "cell_type": "code",
   "execution_count": 86,
   "id": "e170b32e",
   "metadata": {},
   "outputs": [],
   "source": [
    "df_out.reset_index(drop=True, inplace=True)"
   ]
  },
  {
   "cell_type": "code",
   "execution_count": 87,
   "id": "eb23b822",
   "metadata": {},
   "outputs": [
    {
     "name": "stdout",
     "output_type": "stream",
     "text": [
      "<class 'pandas.core.frame.DataFrame'>\n",
      "RangeIndex: 15368 entries, 0 to 15367\n",
      "Data columns (total 28 columns):\n",
      " #   Column                       Non-Null Count  Dtype         \n",
      "---  ------                       --------------  -----         \n",
      " 0   Admin_Unit_Code              15368 non-null  category      \n",
      " 1   Sub_Unit_Code                721 non-null    object        \n",
      " 2   Site_Name                    8542 non-null   object        \n",
      " 3   Plot_Name                    15368 non-null  object        \n",
      " 4   Location_Type                15368 non-null  category      \n",
      " 5   Year                         15368 non-null  int64         \n",
      " 6   Date                         15368 non-null  datetime64[ns]\n",
      " 7   Start_Time                   15368 non-null  object        \n",
      " 8   End_Time                     15368 non-null  object        \n",
      " 9   Observer                     15368 non-null  object        \n",
      " 10  Visit                        15368 non-null  int64         \n",
      " 11  Interval_Length              15368 non-null  category      \n",
      " 12  ID_Method                    15368 non-null  category      \n",
      " 13  Distance                     15368 non-null  category      \n",
      " 14  Flyover_Observed             15368 non-null  bool          \n",
      " 15  Sex                          15368 non-null  object        \n",
      " 16  Common_Name                  15368 non-null  object        \n",
      " 17  Scientific_Name              15368 non-null  object        \n",
      " 18  AcceptedTSN                  15340 non-null  float64       \n",
      " 19  AOU_Code                     15368 non-null  object        \n",
      " 20  PIF_Watchlist_Status         15368 non-null  bool          \n",
      " 21  Regional_Stewardship_Status  15368 non-null  bool          \n",
      " 22  Temperature                  15368 non-null  float64       \n",
      " 23  Humidity                     15368 non-null  float64       \n",
      " 24  Sky                          15368 non-null  category      \n",
      " 25  Wind                         15368 non-null  category      \n",
      " 26  Disturbance_on_count         15368 non-null  category      \n",
      " 27  Initial_Three_Min_Cnt        15368 non-null  bool          \n",
      "dtypes: bool(4), category(8), datetime64[ns](1), float64(3), int64(2), object(10)\n",
      "memory usage: 2.1+ MB\n"
     ]
    }
   ],
   "source": [
    "df_out.info()"
   ]
  },
  {
   "cell_type": "markdown",
   "id": "d56d5aac",
   "metadata": {},
   "source": [
    "## **Dataframe is ready, constructing SQL table**"
   ]
  },
  {
   "cell_type": "markdown",
   "id": "64e73734",
   "metadata": {},
   "source": [
    "Add a new column before writing to SQL"
   ]
  },
  {
   "cell_type": "code",
   "execution_count": 88,
   "id": "16a7ffed",
   "metadata": {},
   "outputs": [],
   "source": [
    "df_out = df_out.reset_index(drop=True)\n",
    "df_out['id'] = df_out.index     "
   ]
  },
  {
   "cell_type": "code",
   "execution_count": 89,
   "id": "c6b43e55",
   "metadata": {},
   "outputs": [],
   "source": [
    "import sqlite3\n",
    "\n",
    "conn = sqlite3.connect('bird_observations.db')\n",
    "\n",
    "# Write with 'id' column\n",
    "df_out.to_sql('observations', conn, if_exists='replace', index=False)\n",
    "\n",
    "conn.close()\n"
   ]
  },
  {
   "cell_type": "markdown",
   "id": "0d7b8fb5",
   "metadata": {},
   "source": [
    " ## **Temporal Analysis**"
   ]
  },
  {
   "cell_type": "code",
   "execution_count": 90,
   "id": "81f68736",
   "metadata": {},
   "outputs": [],
   "source": [
    "import plotly"
   ]
  },
  {
   "cell_type": "code",
   "execution_count": 91,
   "id": "de5fba8a",
   "metadata": {},
   "outputs": [],
   "source": [
    "import sqlite3\n",
    "import pandas as pd\n",
    "\n",
    "# Connect to your SQLite database\n",
    "conn = sqlite3.connect('bird_observations.db')\n",
    "\n",
    "# Query: group by Date, count observations, get mean Temp and Humidity\n",
    "query = \"\"\"\n",
    "SELECT \n",
    "    Date,\n",
    "    COUNT(*) AS Num_Observations,\n",
    "    AVG(Temperature) AS Avg_Temperature,\n",
    "    AVG(Humidity) AS Avg_Humidity\n",
    "FROM observations\n",
    "GROUP BY Date\n",
    "ORDER BY Date\n",
    "\"\"\"\n",
    "\n",
    "df_daily = pd.read_sql_query(query, conn)\n",
    "df_daily['Date'] = pd.to_datetime(df_daily['Date'])  # ensure datetime format\n",
    "\n",
    "conn.close()\n"
   ]
  },
  {
   "cell_type": "markdown",
   "id": "263cd4df",
   "metadata": {},
   "source": [
    "Plot with Plotly (dual y-axis)"
   ]
  },
  {
   "cell_type": "markdown",
   "id": "54629e54",
   "metadata": {},
   "source": [
    "Spatial Analysis"
   ]
  },
  {
   "cell_type": "code",
   "execution_count": 93,
   "id": "93bf0df6",
   "metadata": {},
   "outputs": [],
   "source": [
    "import sqlite3\n",
    "import pandas as pd\n",
    "\n",
    "conn = sqlite3.connect('bird_observations.db')\n",
    "\n",
    "query = \"\"\"\n",
    "SELECT Location_Type\n",
    "FROM observations\n",
    "\"\"\"\n",
    "\n",
    "df = pd.read_sql_query(query, conn)\n",
    "conn.close()\n"
   ]
  },
  {
   "cell_type": "code",
   "execution_count": 94,
   "id": "d087e776",
   "metadata": {},
   "outputs": [
    {
     "data": {
      "text/html": [
       "<div>\n",
       "<style scoped>\n",
       "    .dataframe tbody tr th:only-of-type {\n",
       "        vertical-align: middle;\n",
       "    }\n",
       "\n",
       "    .dataframe tbody tr th {\n",
       "        vertical-align: top;\n",
       "    }\n",
       "\n",
       "    .dataframe thead th {\n",
       "        text-align: right;\n",
       "    }\n",
       "</style>\n",
       "<table border=\"1\" class=\"dataframe\">\n",
       "  <thead>\n",
       "    <tr style=\"text-align: right;\">\n",
       "      <th></th>\n",
       "      <th>Location_Type</th>\n",
       "    </tr>\n",
       "  </thead>\n",
       "  <tbody>\n",
       "    <tr>\n",
       "      <th>0</th>\n",
       "      <td>Forest</td>\n",
       "    </tr>\n",
       "    <tr>\n",
       "      <th>1</th>\n",
       "      <td>Forest</td>\n",
       "    </tr>\n",
       "    <tr>\n",
       "      <th>2</th>\n",
       "      <td>Forest</td>\n",
       "    </tr>\n",
       "    <tr>\n",
       "      <th>3</th>\n",
       "      <td>Forest</td>\n",
       "    </tr>\n",
       "    <tr>\n",
       "      <th>4</th>\n",
       "      <td>Forest</td>\n",
       "    </tr>\n",
       "    <tr>\n",
       "      <th>...</th>\n",
       "      <td>...</td>\n",
       "    </tr>\n",
       "    <tr>\n",
       "      <th>15363</th>\n",
       "      <td>Grassland</td>\n",
       "    </tr>\n",
       "    <tr>\n",
       "      <th>15364</th>\n",
       "      <td>Grassland</td>\n",
       "    </tr>\n",
       "    <tr>\n",
       "      <th>15365</th>\n",
       "      <td>Grassland</td>\n",
       "    </tr>\n",
       "    <tr>\n",
       "      <th>15366</th>\n",
       "      <td>Grassland</td>\n",
       "    </tr>\n",
       "    <tr>\n",
       "      <th>15367</th>\n",
       "      <td>Grassland</td>\n",
       "    </tr>\n",
       "  </tbody>\n",
       "</table>\n",
       "<p>15368 rows × 1 columns</p>\n",
       "</div>"
      ],
      "text/plain": [
       "      Location_Type\n",
       "0            Forest\n",
       "1            Forest\n",
       "2            Forest\n",
       "3            Forest\n",
       "4            Forest\n",
       "...             ...\n",
       "15363     Grassland\n",
       "15364     Grassland\n",
       "15365     Grassland\n",
       "15366     Grassland\n",
       "15367     Grassland\n",
       "\n",
       "[15368 rows x 1 columns]"
      ]
     },
     "execution_count": 94,
     "metadata": {},
     "output_type": "execute_result"
    }
   ],
   "source": [
    "df"
   ]
  },
  {
   "cell_type": "code",
   "execution_count": 95,
   "id": "4d9c4b0e",
   "metadata": {},
   "outputs": [
    {
     "name": "stderr",
     "output_type": "stream",
     "text": [
      "C:\\Users\\Boobalan\\AppData\\Local\\Temp\\ipykernel_20008\\3520255457.py:5: FutureWarning:\n",
      "\n",
      "\n",
      "\n",
      "Passing `palette` without assigning `hue` is deprecated and will be removed in v0.14.0. Assign the `x` variable to `hue` and set `legend=False` for the same effect.\n",
      "\n",
      "\n"
     ]
    },
    {
     "data": {
      "image/png": "[encoded data removed]",
      "text/plain": [
       "<Figure size 600x400 with 1 Axes>"
      ]
     },
     "metadata": {},
     "output_type": "display_data"
    }
   ],
   "source": [
    "import seaborn as sns\n",
    "import matplotlib.pyplot as plt\n",
    "\n",
    "plt.figure(figsize=(6, 4))\n",
    "sns.countplot(data=df, x='Location_Type', palette='Set2')\n",
    "\n",
    "plt.title('Total Bird Observations: Forest vs Grassland')\n",
    "plt.xlabel('Land Type')\n",
    "plt.ylabel('Number of Observations')\n",
    "plt.tight_layout()\n",
    "plt.show()\n"
   ]
  },
  {
   "cell_type": "code",
   "execution_count": 96,
   "id": "9fd6644e",
   "metadata": {},
   "outputs": [
    {
     "name": "stdout",
     "output_type": "stream",
     "text": [
      "Total Records: 15368\n",
      "Unique Plot_Name values: 609\n",
      "NULL Plot_Name values: 0\n"
     ]
    }
   ],
   "source": [
    "import sqlite3\n",
    "\n",
    "# Connect to your database\n",
    "conn = sqlite3.connect('bird_observations.db')\n",
    "cursor = conn.cursor()\n",
    "\n",
    "# Execute the query\n",
    "cursor.execute(\"\"\"\n",
    "SELECT \n",
    "    COUNT(*) AS total_records,\n",
    "    COUNT(DISTINCT Plot_Name) AS unique_plot_names,\n",
    "    SUM(CASE WHEN Plot_Name IS NULL THEN 1 ELSE 0 END) AS null_plot_names\n",
    "FROM observations;\n",
    "\"\"\")\n",
    "\n",
    "# Fetch and display\n",
    "result = cursor.fetchone()\n",
    "conn.close()\n",
    "\n",
    "print(f\"Total Records: {result[0]}\")\n",
    "print(f\"Unique Plot_Name values: {result[1]}\")\n",
    "print(f\"NULL Plot_Name values: {result[2]}\")\n"
   ]
  },
  {
   "cell_type": "code",
   "execution_count": 98,
   "id": "826cd8ef",
   "metadata": {},
   "outputs": [
    {
     "data": {
      "image/png": "[encoded data removed]",
      "text/plain": [
       "<Figure size 800x400 with 1 Axes>"
      ]
     },
     "metadata": {},
     "output_type": "display_data"
    }
   ],
   "source": [
    "import sqlite3\n",
    "import pandas as pd\n",
    "import seaborn as sns\n",
    "import matplotlib.pyplot as plt\n",
    "\n",
    "# Step 1: Load Plot_Name data from DB\n",
    "with sqlite3.connect(\"bird_observations.db\") as conn:\n",
    "    df = pd.read_sql_query(\"SELECT Plot_Name FROM observations\", conn)\n",
    "\n",
    "# Step 2: Count frequency of observations per plot\n",
    "plot_freq = df['Plot_Name'].value_counts()\n",
    "\n",
    "# Step 3: Plot Histogram + KDE\n",
    "plt.figure(figsize=(8, 4))\n",
    "sns.histplot(plot_freq, bins=30, kde=True, color='skyblue')\n",
    "plt.title(\"Distribution of Observations per Plot\")\n",
    "plt.xlabel(\"Number of Observations\")\n",
    "plt.ylabel(\"Number of Plots\")\n",
    "plt.tight_layout()\n",
    "plt.show()\n"
   ]
  },
  {
   "cell_type": "code",
   "execution_count": 102,
   "id": "7ba6f1cb",
   "metadata": {},
   "outputs": [
    {
     "name": "stdout",
     "output_type": "stream",
     "text": [
      "Number of unique Scientific_Name values: 127\n"
     ]
    }
   ],
   "source": [
    "import sqlite3\n",
    "\n",
    "# Connect to your SQLite database\n",
    "conn = sqlite3.connect('bird_observations.db')\n",
    "cursor = conn.cursor()\n",
    "\n",
    "# Execute the query\n",
    "cursor.execute(\"SELECT COUNT(DISTINCT Scientific_Name) FROM observations\")\n",
    "unique_species_count = cursor.fetchone()[0]\n",
    "conn.close()\n",
    "\n",
    "print(f\"Number of unique Scientific_Name values: {unique_species_count}\")\n"
   ]
  },
  {
   "cell_type": "code",
   "execution_count": 1,
   "id": "b48d08f1",
   "metadata": {},
   "outputs": [
    {
     "name": "stdout",
     "output_type": "stream",
     "text": [
      "              Scientific_Name  Observation_Count\n",
      "0             Ardeola bacchus                  1\n",
      "1             Corvus caurinus                  1\n",
      "2           Empidonax minimus                  1\n",
      "3            Falco peregrinus                  1\n",
      "4  Melanerpes erythrocephalus                  1\n"
     ]
    }
   ],
   "source": [
    "import sqlite3\n",
    "import pandas as pd\n",
    "\n",
    "# Connect to the SQLite database\n",
    "conn = sqlite3.connect('bird_observations.db')\n",
    "\n",
    "# SQL query to get 5 least observed bird species\n",
    "query = \"\"\"\n",
    "SELECT Scientific_Name, COUNT(*) AS Observation_Count\n",
    "FROM observations\n",
    "GROUP BY Scientific_Name\n",
    "ORDER BY Observation_Count ASC\n",
    "LIMIT 5;\n",
    "\"\"\"\n",
    "\n",
    "# Execute query and load results into a DataFrame\n",
    "df_least_observed = pd.read_sql_query(query, conn)\n",
    "\n",
    "# Close the connection\n",
    "conn.close()\n",
    "\n",
    "# Print the result\n",
    "print(df_least_observed)\n"
   ]
  },
  {
   "cell_type": "markdown",
   "id": "678aedeb",
   "metadata": {},
   "source": [
    " Species Analysis"
   ]
  },
  {
   "cell_type": "code",
   "execution_count": 103,
   "id": "dd8e249f",
   "metadata": {},
   "outputs": [
    {
     "name": "stdout",
     "output_type": "stream",
     "text": [
      "   Plot_Name  observation_count\n",
      "0  MONO-0097                 10\n"
     ]
    }
   ],
   "source": [
    "\n",
    "# Connect to the SQLite database\n",
    "conn = sqlite3.connect('bird_observations.db')\n",
    "\n",
    "# Define the query\n",
    "query = \"\"\"\n",
    "SELECT Plot_Name, COUNT(*) AS observation_count\n",
    "FROM observations\n",
    "WHERE Scientific_Name = (\n",
    "    SELECT Scientific_Name\n",
    "    FROM observations\n",
    "    GROUP BY Scientific_Name\n",
    "    ORDER BY COUNT(*) DESC\n",
    "    LIMIT 1\n",
    ")\n",
    "GROUP BY Plot_Name\n",
    "ORDER BY observation_count DESC\n",
    "LIMIT 1;\n",
    "\"\"\"\n",
    "\n",
    "# Execute the query and load into DataFrame\n",
    "df_result = pd.read_sql_query(query, conn)\n",
    "\n",
    "# Close the connection\n",
    "conn.close()\n",
    "\n",
    "# Show the result\n",
    "print(df_result)\n"
   ]
  },
  {
   "cell_type": "code",
   "execution_count": 104,
   "id": "0d79317e",
   "metadata": {},
   "outputs": [
    {
     "data": {
      "image/png": "[encoded data removed]",
      "text/plain": [
       "<Figure size 1400x600 with 1 Axes>"
      ]
     },
     "metadata": {},
     "output_type": "display_data"
    }
   ],
   "source": [
    "import sqlite3\n",
    "import pandas as pd\n",
    "import matplotlib.pyplot as plt\n",
    "import seaborn as sns\n",
    "\n",
    "# Step 1: Use a single query with WITH clause\n",
    "with sqlite3.connect('bird_observations.db') as conn:\n",
    "    query = \"\"\"\n",
    "    WITH TopSpecies AS (\n",
    "        SELECT Scientific_Name\n",
    "        FROM observations\n",
    "        GROUP BY Scientific_Name\n",
    "        ORDER BY COUNT(*) DESC\n",
    "        LIMIT 10\n",
    "    )\n",
    "    SELECT o.Scientific_Name, o.Location_Type, COUNT(*) AS Count\n",
    "    FROM observations o\n",
    "    JOIN TopSpecies t ON o.Scientific_Name = t.Scientific_Name\n",
    "    GROUP BY o.Scientific_Name, o.Location_Type;\n",
    "    \"\"\"\n",
    "    species_land_df = pd.read_sql_query(query, conn)\n",
    "\n",
    "# Step 2: Plot\n",
    "plt.figure(figsize=(14, 6))\n",
    "sns.barplot(data=species_land_df, x='Scientific_Name', y='Count', hue='Location_Type')\n",
    "\n",
    "plt.title('Top 10 Scientific Species with Land Type Distribution')\n",
    "plt.xlabel('Scientific Name')\n",
    "plt.ylabel('Observation Count')\n",
    "plt.xticks(rotation=45, ha='right')\n",
    "plt.tight_layout()\n",
    "plt.show()\n"
   ]
  },
  {
   "cell_type": "markdown",
   "id": "6f71bedf",
   "metadata": {},
   "source": [
    "Common Setup"
   ]
  },
  {
   "cell_type": "code",
   "execution_count": 92,
   "id": "7ffd6404",
   "metadata": {},
   "outputs": [
    {
     "data": {
      "application/vnd.plotly.v1+json": {
       "config": {
        "plotlyServerURL": "https://plot.ly"
       },
       "data": [
        {
         "line": {
          "color": "blue"
         },
         "mode": "lines+markers",
         "name": "Observations",
         "type": "scatter",
         "x": [
          "2018-05-07T00:00:00.000000000",
          "2018-05-08T00:00:00.000000000",
          "2018-05-10T00:00:00.000000000",
          "2018-05-11T00:00:00.000000000",
          "2018-05-12T00:00:00.000000000",
          "2018-05-14T00:00:00.000000000",
          "2018-05-15T00:00:00.000000000",
          "2018-05-16T00:00:00.000000000",
          "2018-05-19T00:00:00.000000000",
          "2018-05-20T00:00:00.000000000",
          "2018-05-21T00:00:00.000000000",
          "2018-05-22T00:00:00.000000000",
          "2018-05-23T00:00:00.000000000",
          "2018-05-24T00:00:00.000000000",
          "2018-05-25T00:00:00.000000000",
          "2018-05-26T00:00:00.000000000",
          "2018-05-28T00:00:00.000000000",
          "2018-05-29T00:00:00.000000000",
          "2018-05-30T00:00:00.000000000",
          "2018-05-31T00:00:00.000000000",
          "2018-06-01T00:00:00.000000000",
          "2018-06-02T00:00:00.000000000",
          "2018-06-04T00:00:00.000000000",
          "2018-06-05T00:00:00.000000000",
          "2018-06-06T00:00:00.000000000",
          "2018-06-07T00:00:00.000000000",
          "2018-06-08T00:00:00.000000000",
          "2018-06-09T00:00:00.000000000",
          "2018-06-10T00:00:00.000000000",
          "2018-06-12T00:00:00.000000000",
          "2018-06-13T00:00:00.000000000",
          "2018-06-14T00:00:00.000000000",
          "2018-06-17T00:00:00.000000000",
          "2018-06-18T00:00:00.000000000",
          "2018-06-19T00:00:00.000000000",
          "2018-06-20T00:00:00.000000000",
          "2018-06-21T00:00:00.000000000",
          "2018-06-23T00:00:00.000000000",
          "2018-06-24T00:00:00.000000000",
          "2018-06-25T00:00:00.000000000",
          "2018-06-26T00:00:00.000000000",
          "2018-06-27T00:00:00.000000000",
          "2018-06-28T00:00:00.000000000",
          "2018-06-29T00:00:00.000000000",
          "2018-06-30T00:00:00.000000000",
          "2018-07-01T00:00:00.000000000",
          "2018-07-02T00:00:00.000000000",
          "2018-07-03T00:00:00.000000000",
          "2018-07-04T00:00:00.000000000",
          "2018-07-05T00:00:00.000000000",
          "2018-07-06T00:00:00.000000000",
          "2018-07-07T00:00:00.000000000",
          "2018-07-08T00:00:00.000000000",
          "2018-07-09T00:00:00.000000000",
          "2018-07-10T00:00:00.000000000",
          "2018-07-11T00:00:00.000000000",
          "2018-07-12T00:00:00.000000000",
          "2018-07-13T00:00:00.000000000",
          "2018-07-14T00:00:00.000000000",
          "2018-07-15T00:00:00.000000000",
          "2018-07-16T00:00:00.000000000",
          "2018-07-17T00:00:00.000000000",
          "2018-07-18T00:00:00.000000000",
          "2018-07-19T00:00:00.000000000"
         ],
         "y": {
          "bdata": "ZgHAANEBvADJACoBiwGVAKQAhADuANkAoAGYAqoAcwB4AK0AjQBDAMwAaAD5AIoBvgD5ADYB8gC0ALoA3QBoAZcAPQGEAb0ArwCPAIcAZAI9ApYAowCjAKEAIADtAAsBggEwAUgAcgBAAPEAMwGnAXgAwgFoAS4A6QEaARsASwA=",
          "dtype": "i2"
         },
         "yaxis": "y"
        },
        {
         "line": {
          "color": "red"
         },
         "mode": "lines",
         "name": "Avg Temperature (°C)",
         "type": "scatter",
         "x": [
          "2018-05-07T00:00:00.000000000",
          "2018-05-08T00:00:00.000000000",
          "2018-05-10T00:00:00.000000000",
          "2018-05-11T00:00:00.000000000",
          "2018-05-12T00:00:00.000000000",
          "2018-05-14T00:00:00.000000000",
          "2018-05-15T00:00:00.000000000",
          "2018-05-16T00:00:00.000000000",
          "2018-05-19T00:00:00.000000000",
          "2018-05-20T00:00:00.000000000",
          "2018-05-21T00:00:00.000000000",
          "2018-05-22T00:00:00.000000000",
          "2018-05-23T00:00:00.000000000",
          "2018-05-24T00:00:00.000000000",
          "2018-05-25T00:00:00.000000000",
          "2018-05-26T00:00:00.000000000",
          "2018-05-28T00:00:00.000000000",
          "2018-05-29T00:00:00.000000000",
          "2018-05-30T00:00:00.000000000",
          "2018-05-31T00:00:00.000000000",
          "2018-06-01T00:00:00.000000000",
          "2018-06-02T00:00:00.000000000",
          "2018-06-04T00:00:00.000000000",
          "2018-06-05T00:00:00.000000000",
          "2018-06-06T00:00:00.000000000",
          "2018-06-07T00:00:00.000000000",
          "2018-06-08T00:00:00.000000000",
          "2018-06-09T00:00:00.000000000",
          "2018-06-10T00:00:00.000000000",
          "2018-06-12T00:00:00.000000000",
          "2018-06-13T00:00:00.000000000",
          "2018-06-14T00:00:00.000000000",
          "2018-06-17T00:00:00.000000000",
          "2018-06-18T00:00:00.000000000",
          "2018-06-19T00:00:00.000000000",
          "2018-06-20T00:00:00.000000000",
          "2018-06-21T00:00:00.000000000",
          "2018-06-23T00:00:00.000000000",
          "2018-06-24T00:00:00.000000000",
          "2018-06-25T00:00:00.000000000",
          "2018-06-26T00:00:00.000000000",
          "2018-06-27T00:00:00.000000000",
          "2018-06-28T00:00:00.000000000",
          "2018-06-29T00:00:00.000000000",
          "2018-06-30T00:00:00.000000000",
          "2018-07-01T00:00:00.000000000",
          "2018-07-02T00:00:00.000000000",
          "2018-07-03T00:00:00.000000000",
          "2018-07-04T00:00:00.000000000",
          "2018-07-05T00:00:00.000000000",
          "2018-07-06T00:00:00.000000000",
          "2018-07-07T00:00:00.000000000",
          "2018-07-08T00:00:00.000000000",
          "2018-07-09T00:00:00.000000000",
          "2018-07-10T00:00:00.000000000",
          "2018-07-11T00:00:00.000000000",
          "2018-07-12T00:00:00.000000000",
          "2018-07-13T00:00:00.000000000",
          "2018-07-14T00:00:00.000000000",
          "2018-07-15T00:00:00.000000000",
          "2018-07-16T00:00:00.000000000",
          "2018-07-17T00:00:00.000000000",
          "2018-07-18T00:00:00.000000000",
          "2018-07-19T00:00:00.000000000"
         ],
         "y": {
          "bdata": "R/hk4RSJMkB3d3d3d18vQAMXM3AxgzNArKZ1vDmhNUAbE+mBytk0QED9x6o3LjVAd9/caOFzOEAuapPb2RY2QGpXonYlqi1A63WkXkeKMUAplnEolrEyQOgz9Bn6jDVAhl7ohV4UOUBM/Dke0dM2QJYvyWL8VTJAu6TyYdwvOEDUBjptoMMxQIKnClxpHDZAh0swO52PN0DbfoawF882QA4ODg4O7jVA3MiN3MjdNkD1Ik5UnhY1QI6lu95/tDNAN+6yXDywMkCtAg+jk1ozQKXdV9p9pTRAsgEseDTUNkD5xZJfLDk1QO2B1B5ILTFA0uUg0uWgNUArGgn45mU4QJLmSHOkuTdAz7yfk85ROkAc3PNKirI7QECl/pT60zZAx0s3iUFgNkBcHUpzer42QBzHcRzHcTNAIyMjIyOjOECktkQvH5M1QKcNdNpA5zVAYfTqLF9/NkC748WW4Fs4QH4R1Tr7ojdAzczMzMxsOEBXi5swvys6QFK33AdhKjtAkUZ+1FO0OkDFqd9zS2Q6QMzMzMzMbDlAn1vi1O85NECamZmZmeczQKjlC6jlizNArAQcqPCjNUAVh4y9dnk5QPKLJb9YQjNAaimCdACmOEDkOI7jOI41QOpNb3rT2zZA2upxwJqiOUAVh4y9drk3QFx5QLLOlTdAERERERGRMkA=",
          "dtype": "f8"
         },
         "yaxis": "y2"
        },
        {
         "line": {
          "color": "green"
         },
         "mode": "lines",
         "name": "Avg Humidity (%)",
         "type": "scatter",
         "x": [
          "2018-05-07T00:00:00.000000000",
          "2018-05-08T00:00:00.000000000",
          "2018-05-10T00:00:00.000000000",
          "2018-05-11T00:00:00.000000000",
          "2018-05-12T00:00:00.000000000",
          "2018-05-14T00:00:00.000000000",
          "2018-05-15T00:00:00.000000000",
          "2018-05-16T00:00:00.000000000",
          "2018-05-19T00:00:00.000000000",
          "2018-05-20T00:00:00.000000000",
          "2018-05-21T00:00:00.000000000",
          "2018-05-22T00:00:00.000000000",
          "2018-05-23T00:00:00.000000000",
          "2018-05-24T00:00:00.000000000",
          "2018-05-25T00:00:00.000000000",
          "2018-05-26T00:00:00.000000000",
          "2018-05-28T00:00:00.000000000",
          "2018-05-29T00:00:00.000000000",
          "2018-05-30T00:00:00.000000000",
          "2018-05-31T00:00:00.000000000",
          "2018-06-01T00:00:00.000000000",
          "2018-06-02T00:00:00.000000000",
          "2018-06-04T00:00:00.000000000",
          "2018-06-05T00:00:00.000000000",
          "2018-06-06T00:00:00.000000000",
          "2018-06-07T00:00:00.000000000",
          "2018-06-08T00:00:00.000000000",
          "2018-06-09T00:00:00.000000000",
          "2018-06-10T00:00:00.000000000",
          "2018-06-12T00:00:00.000000000",
          "2018-06-13T00:00:00.000000000",
          "2018-06-14T00:00:00.000000000",
          "2018-06-17T00:00:00.000000000",
          "2018-06-18T00:00:00.000000000",
          "2018-06-19T00:00:00.000000000",
          "2018-06-20T00:00:00.000000000",
          "2018-06-21T00:00:00.000000000",
          "2018-06-23T00:00:00.000000000",
          "2018-06-24T00:00:00.000000000",
          "2018-06-25T00:00:00.000000000",
          "2018-06-26T00:00:00.000000000",
          "2018-06-27T00:00:00.000000000",
          "2018-06-28T00:00:00.000000000",
          "2018-06-29T00:00:00.000000000",
          "2018-06-30T00:00:00.000000000",
          "2018-07-01T00:00:00.000000000",
          "2018-07-02T00:00:00.000000000",
          "2018-07-03T00:00:00.000000000",
          "2018-07-04T00:00:00.000000000",
          "2018-07-05T00:00:00.000000000",
          "2018-07-06T00:00:00.000000000",
          "2018-07-07T00:00:00.000000000",
          "2018-07-08T00:00:00.000000000",
          "2018-07-09T00:00:00.000000000",
          "2018-07-10T00:00:00.000000000",
          "2018-07-11T00:00:00.000000000",
          "2018-07-12T00:00:00.000000000",
          "2018-07-13T00:00:00.000000000",
          "2018-07-14T00:00:00.000000000",
          "2018-07-15T00:00:00.000000000",
          "2018-07-16T00:00:00.000000000",
          "2018-07-17T00:00:00.000000000",
          "2018-07-18T00:00:00.000000000",
          "2018-07-19T00:00:00.000000000"
         ],
         "y": {
          "bdata": "ZN0GGFTWUEBnZmZm5ohQQBLsIMEO0k5ARUAPVtOqUEDfZMRR229RQCTYUywnLlNA1TZvisx6UkDxpCD58wpUQJ6F6VmYNlRAcv4s588aVUBwuUtwuRtTQDk7aWoBYlJAMzMzMzOkUECU8EZT5z9QQJqZmZmZmVFAo+4YOP7bUUDsUbgehetUQFfYRZTr5FRA1Daprt94VEBv4VdjIv1TQIOCgoKCKlVAkRu5kRuRVUAzvj9SMBlRQKg4lu56D1FA1OjwEwEKUkDDXZhXTv9RQNNcIc0VElNA4vKqXGlDVECrqqqqqhJWQExlyFSGLFNARAlYRAn4U0ADnTbQaXtOQPPBLJRJPVJAGgJji3HRUkBoshYx53JTQCnbB9OF8lFA7FG4HoVLVUA4yaoJDwJUQLHv2GyrdFVAKSkpKSlBUUBU3cNwssNQQD0K16NwLVJA/tnW7FKoVEBKLP1GQqNTQNC3ZrkFFlRAmpmZmZldUkB7BqLSkb1UQN2AoJ2GLlVAtV7fPvccVUAdKxBG2tVUQJqZmZmZZVVAwX0E9xE8TkCamZmZGYpRQHUVD3UV71JAVwo+dLk4U0BpS5u/W+5RQFVVVVVVWVNAu0kMAiv3UEDFs6KRgGdSQLlfl1Q+3FJABqNXZ/m6UkC5gphcQQxVQNpLaC+h3VBA5/up8dKNVEA=",
          "dtype": "f8"
         },
         "yaxis": "y2"
        }
       ],
       "layout": {
        "height": 500,
        "template": {
         "data": {
          "bar": [
           {
            "error_x": {
             "color": "#2a3f5f"
            },
            "error_y": {
             "color": "#2a3f5f"
            },
            "marker": {
             "line": {
              "color": "#E5ECF6",
              "width": 0.5
             },
             "pattern": {
              "fillmode": "overlay",
              "size": 10,
              "solidity": 0.2
             }
            },
            "type": "bar"
           }
          ],
          "barpolar": [
           {
            "marker": {
             "line": {
              "color": "#E5ECF6",
              "width": 0.5
             },
             "pattern": {
              "fillmode": "overlay",
              "size": 10,
              "solidity": 0.2
             }
            },
            "type": "barpolar"
           }
          ],
          "carpet": [
           {
            "aaxis": {
             "endlinecolor": "#2a3f5f",
             "gridcolor": "white",
             "linecolor": "white",
             "minorgridcolor": "white",
             "startlinecolor": "#2a3f5f"
            },
            "baxis": {
             "endlinecolor": "#2a3f5f",
             "gridcolor": "white",
             "linecolor": "white",
             "minorgridcolor": "white",
             "startlinecolor": "#2a3f5f"
            },
            "type": "carpet"
           }
          ],
          "choropleth": [
           {
            "colorbar": {
             "outlinewidth": 0,
             "ticks": ""
            },
            "type": "choropleth"
           }
          ],
          "contour": [
           {
            "colorbar": {
             "outlinewidth": 0,
             "ticks": ""
            },
            "colorscale": [
             [
              0,
              "#0d0887"
             ],
             [
              0.1111111111111111,
              "#46039f"
             ],
             [
              0.2222222222222222,
              "#7201a8"
             ],
             [
              0.3333333333333333,
              "#9c179e"
             ],
             [
              0.4444444444444444,
              "#bd3786"
             ],
             [
              0.5555555555555556,
              "#d8576b"
             ],
             [
              0.6666666666666666,
              "#ed7953"
             ],
             [
              0.7777777777777778,
              "#fb9f3a"
             ],
             [
              0.8888888888888888,
              "#fdca26"
             ],
             [
              1,
              "#f0f921"
             ]
            ],
            "type": "contour"
           }
          ],
          "contourcarpet": [
           {
            "colorbar": {
             "outlinewidth": 0,
             "ticks": ""
            },
            "type": "contourcarpet"
           }
          ],
          "heatmap": [
           {
            "colorbar": {
             "outlinewidth": 0,
             "ticks": ""
            },
            "colorscale": [
             [
              0,
              "#0d0887"
             ],
             [
              0.1111111111111111,
              "#46039f"
             ],
             [
              0.2222222222222222,
              "#7201a8"
             ],
             [
              0.3333333333333333,
              "#9c179e"
             ],
             [
              0.4444444444444444,
              "#bd3786"
             ],
             [
              0.5555555555555556,
              "#d8576b"
             ],
             [
              0.6666666666666666,
              "#ed7953"
             ],
             [
              0.7777777777777778,
              "#fb9f3a"
             ],
             [
              0.8888888888888888,
              "#fdca26"
             ],
             [
              1,
              "#f0f921"
             ]
            ],
            "type": "heatmap"
           }
          ],
          "histogram": [
           {
            "marker": {
             "pattern": {
              "fillmode": "overlay",
              "size": 10,
              "solidity": 0.2
             }
            },
            "type": "histogram"
           }
          ],
          "histogram2d": [
           {
            "colorbar": {
             "outlinewidth": 0,
             "ticks": ""
            },
            "colorscale": [
             [
              0,
              "#0d0887"
             ],
             [
              0.1111111111111111,
              "#46039f"
             ],
             [
              0.2222222222222222,
              "#7201a8"
             ],
             [
              0.3333333333333333,
              "#9c179e"
             ],
             [
              0.4444444444444444,
              "#bd3786"
             ],
             [
              0.5555555555555556,
              "#d8576b"
             ],
             [
              0.6666666666666666,
              "#ed7953"
             ],
             [
              0.7777777777777778,
              "#fb9f3a"
             ],
             [
              0.8888888888888888,
              "#fdca26"
             ],
             [
              1,
              "#f0f921"
             ]
            ],
            "type": "histogram2d"
           }
          ],
          "histogram2dcontour": [
           {
            "colorbar": {
             "outlinewidth": 0,
             "ticks": ""
            },
            "colorscale": [
             [
              0,
              "#0d0887"
             ],
             [
              0.1111111111111111,
              "#46039f"
             ],
             [
              0.2222222222222222,
              "#7201a8"
             ],
             [
              0.3333333333333333,
              "#9c179e"
             ],
             [
              0.4444444444444444,
              "#bd3786"
             ],
             [
              0.5555555555555556,
              "#d8576b"
             ],
             [
              0.6666666666666666,
              "#ed7953"
             ],
             [
              0.7777777777777778,
              "#fb9f3a"
             ],
             [
              0.8888888888888888,
              "#fdca26"
             ],
             [
              1,
              "#f0f921"
             ]
            ],
            "type": "histogram2dcontour"
           }
          ],
          "mesh3d": [
           {
            "colorbar": {
             "outlinewidth": 0,
             "ticks": ""
            },
            "type": "mesh3d"
           }
          ],
          "parcoords": [
           {
            "line": {
             "colorbar": {
              "outlinewidth": 0,
              "ticks": ""
             }
            },
            "type": "parcoords"
           }
          ],
          "pie": [
           {
            "automargin": true,
            "type": "pie"
           }
          ],
          "scatter": [
           {
            "fillpattern": {
             "fillmode": "overlay",
             "size": 10,
             "solidity": 0.2
            },
            "type": "scatter"
           }
          ],
          "scatter3d": [
           {
            "line": {
             "colorbar": {
              "outlinewidth": 0,
              "ticks": ""
             }
            },
            "marker": {
             "colorbar": {
              "outlinewidth": 0,
              "ticks": ""
             }
            },
            "type": "scatter3d"
           }
          ],
          "scattercarpet": [
           {
            "marker": {
             "colorbar": {
              "outlinewidth": 0,
              "ticks": ""
             }
            },
            "type": "scattercarpet"
           }
          ],
          "scattergeo": [
           {
            "marker": {
             "colorbar": {
              "outlinewidth": 0,
              "ticks": ""
             }
            },
            "type": "scattergeo"
           }
          ],
          "scattergl": [
           {
            "marker": {
             "colorbar": {
              "outlinewidth": 0,
              "ticks": ""
             }
            },
            "type": "scattergl"
           }
          ],
          "scattermap": [
           {
            "marker": {
             "colorbar": {
              "outlinewidth": 0,
              "ticks": ""
             }
            },
            "type": "scattermap"
           }
          ],
          "scattermapbox": [
           {
            "marker": {
             "colorbar": {
              "outlinewidth": 0,
              "ticks": ""
             }
            },
            "type": "scattermapbox"
           }
          ],
          "scatterpolar": [
           {
            "marker": {
             "colorbar": {
              "outlinewidth": 0,
              "ticks": ""
             }
            },
            "type": "scatterpolar"
           }
          ],
          "scatterpolargl": [
           {
            "marker": {
             "colorbar": {
              "outlinewidth": 0,
              "ticks": ""
             }
            },
            "type": "scatterpolargl"
           }
          ],
          "scatterternary": [
           {
            "marker": {
             "colorbar": {
              "outlinewidth": 0,
              "ticks": ""
             }
            },
            "type": "scatterternary"
           }
          ],
          "surface": [
           {
            "colorbar": {
             "outlinewidth": 0,
             "ticks": ""
            },
            "colorscale": [
             [
              0,
              "#0d0887"
             ],
             [
              0.1111111111111111,
              "#46039f"
             ],
             [
              0.2222222222222222,
              "#7201a8"
             ],
             [
              0.3333333333333333,
              "#9c179e"
             ],
             [
              0.4444444444444444,
              "#bd3786"
             ],
             [
              0.5555555555555556,
              "#d8576b"
             ],
             [
              0.6666666666666666,
              "#ed7953"
             ],
             [
              0.7777777777777778,
              "#fb9f3a"
             ],
             [
              0.8888888888888888,
              "#fdca26"
             ],
             [
              1,
              "#f0f921"
             ]
            ],
            "type": "surface"
           }
          ],
          "table": [
           {
            "cells": {
             "fill": {
              "color": "#EBF0F8"
             },
             "line": {
              "color": "white"
             }
            },
            "header": {
             "fill": {
              "color": "#C8D4E3"
             },
             "line": {
              "color": "white"
             }
            },
            "type": "table"
           }
          ]
         },
         "layout": {
          "annotationdefaults": {
           "arrowcolor": "#2a3f5f",
           "arrowhead": 0,
           "arrowwidth": 1
          },
          "autotypenumbers": "strict",
          "coloraxis": {
           "colorbar": {
            "outlinewidth": 0,
            "ticks": ""
           }
          },
          "colorscale": {
           "diverging": [
            [
             0,
             "#8e0152"
            ],
            [
             0.1,
             "#c51b7d"
            ],
            [
             0.2,
             "#de77ae"
            ],
            [
             0.3,
             "#f1b6da"
            ],
            [
             0.4,
             "#fde0ef"
            ],
            [
             0.5,
             "#f7f7f7"
            ],
            [
             0.6,
             "#e6f5d0"
            ],
            [
             0.7,
             "#b8e186"
            ],
            [
             0.8,
             "#7fbc41"
            ],
            [
             0.9,
             "#4d9221"
            ],
            [
             1,
             "#276419"
            ]
           ],
           "sequential": [
            [
             0,
             "#0d0887"
            ],
            [
             0.1111111111111111,
             "#46039f"
            ],
            [
             0.2222222222222222,
             "#7201a8"
            ],
            [
             0.3333333333333333,
             "#9c179e"
            ],
            [
             0.4444444444444444,
             "#bd3786"
            ],
            [
             0.5555555555555556,
             "#d8576b"
            ],
            [
             0.6666666666666666,
             "#ed7953"
            ],
            [
             0.7777777777777778,
             "#fb9f3a"
            ],
            [
             0.8888888888888888,
             "#fdca26"
            ],
            [
             1,
             "#f0f921"
            ]
           ],
           "sequentialminus": [
            [
             0,
             "#0d0887"
            ],
            [
             0.1111111111111111,
             "#46039f"
            ],
            [
             0.2222222222222222,
             "#7201a8"
            ],
            [
             0.3333333333333333,
             "#9c179e"
            ],
            [
             0.4444444444444444,
             "#bd3786"
            ],
            [
             0.5555555555555556,
             "#d8576b"
            ],
            [
             0.6666666666666666,
             "#ed7953"
            ],
            [
             0.7777777777777778,
             "#fb9f3a"
            ],
            [
             0.8888888888888888,
             "#fdca26"
            ],
            [
             1,
             "#f0f921"
            ]
           ]
          },
          "colorway": [
           "#636efa",
           "#EF553B",
           "#00cc96",
           "#ab63fa",
           "#FFA15A",
           "#19d3f3",
           "#FF6692",
           "#B6E880",
           "#FF97FF",
           "#FECB52"
          ],
          "font": {
           "color": "#2a3f5f"
          },
          "geo": {
           "bgcolor": "white",
           "lakecolor": "white",
           "landcolor": "#E5ECF6",
           "showlakes": true,
           "showland": true,
           "subunitcolor": "white"
          },
          "hoverlabel": {
           "align": "left"
          },
          "hovermode": "closest",
          "mapbox": {
           "style": "light"
          },
          "paper_bgcolor": "white",
          "plot_bgcolor": "#E5ECF6",
          "polar": {
           "angularaxis": {
            "gridcolor": "white",
            "linecolor": "white",
            "ticks": ""
           },
           "bgcolor": "#E5ECF6",
           "radialaxis": {
            "gridcolor": "white",
            "linecolor": "white",
            "ticks": ""
           }
          },
          "scene": {
           "xaxis": {
            "backgroundcolor": "#E5ECF6",
            "gridcolor": "white",
            "gridwidth": 2,
            "linecolor": "white",
            "showbackground": true,
            "ticks": "",
            "zerolinecolor": "white"
           },
           "yaxis": {
            "backgroundcolor": "#E5ECF6",
            "gridcolor": "white",
            "gridwidth": 2,
            "linecolor": "white",
            "showbackground": true,
            "ticks": "",
            "zerolinecolor": "white"
           },
           "zaxis": {
            "backgroundcolor": "#E5ECF6",
            "gridcolor": "white",
            "gridwidth": 2,
            "linecolor": "white",
            "showbackground": true,
            "ticks": "",
            "zerolinecolor": "white"
           }
          },
          "shapedefaults": {
           "line": {
            "color": "#2a3f5f"
           }
          },
          "ternary": {
           "aaxis": {
            "gridcolor": "white",
            "linecolor": "white",
            "ticks": ""
           },
           "baxis": {
            "gridcolor": "white",
            "linecolor": "white",
            "ticks": ""
           },
           "bgcolor": "#E5ECF6",
           "caxis": {
            "gridcolor": "white",
            "linecolor": "white",
            "ticks": ""
           }
          },
          "title": {
           "x": 0.05
          },
          "xaxis": {
           "automargin": true,
           "gridcolor": "white",
           "linecolor": "white",
           "ticks": "",
           "title": {
            "standoff": 15
           },
           "zerolinecolor": "white",
           "zerolinewidth": 2
          },
          "yaxis": {
           "automargin": true,
           "gridcolor": "white",
           "linecolor": "white",
           "ticks": "",
           "title": {
            "standoff": 15
           },
           "zerolinecolor": "white",
           "zerolinewidth": 2
          }
         }
        },
        "title": {
         "text": "Daily Bird Observations with Temperature and Humidity"
        },
        "width": 1000,
        "xaxis": {
         "title": {
          "text": "Date"
         }
        },
        "yaxis": {
         "side": "left",
         "title": {
          "text": "Number of Observations"
         }
        },
        "yaxis2": {
         "overlaying": "y",
         "side": "right",
         "title": {
          "text": "Temperature (°C) / Humidity (%)"
         }
        }
       }
      }
     },
     "metadata": {},
     "output_type": "display_data"
    }
   ],
   "source": [
    "import plotly.graph_objects as go\n",
    "\n",
    "fig = go.Figure()\n",
    "\n",
    "# Line: Number of Observations\n",
    "fig.add_trace(go.Scatter(\n",
    "    x=df_daily['Date'],\n",
    "    y=df_daily['Num_Observations'],\n",
    "    name='Observations',\n",
    "    mode='lines+markers',\n",
    "    yaxis='y1',\n",
    "    line=dict(color='blue')\n",
    "))\n",
    "\n",
    "# Line: Average Temperature\n",
    "fig.add_trace(go.Scatter(\n",
    "    x=df_daily['Date'],\n",
    "    y=df_daily['Avg_Temperature'],\n",
    "    name='Avg Temperature (°C)',\n",
    "    mode='lines',\n",
    "    yaxis='y2',\n",
    "    line=dict(color='red')\n",
    "))\n",
    "\n",
    "# Line: Average Humidity\n",
    "fig.add_trace(go.Scatter(\n",
    "    x=df_daily['Date'],\n",
    "    y=df_daily['Avg_Humidity'],\n",
    "    name='Avg Humidity (%)',\n",
    "    mode='lines',\n",
    "    yaxis='y2',\n",
    "    line=dict(color='green')\n",
    "))\n",
    "\n",
    "# Layout with dual y-axis\n",
    "fig.update_layout(\n",
    "    title=\"Daily Bird Observations with Temperature and Humidity\",\n",
    "    xaxis_title=\"Date\",\n",
    "    yaxis=dict(\n",
    "        title=\"Number of Observations\",\n",
    "        side=\"left\"\n",
    "    ),\n",
    "    yaxis2=dict(\n",
    "        title=\"Temperature (°C) / Humidity (%)\",\n",
    "        overlaying='y',\n",
    "        side=\"right\"\n",
    "    ),\n",
    "    width=1000,\n",
    "    height=500\n",
    ")\n",
    "\n",
    "fig.show()\n"
   ]
  },
  {
   "cell_type": "code",
   "execution_count": 105,
   "id": "16af3ea8",
   "metadata": {},
   "outputs": [],
   "source": [
    "import sqlite3\n",
    "import pandas as pd\n",
    "import matplotlib.pyplot as plt\n",
    "import seaborn as sns\n",
    "\n",
    "# Connect and load data\n",
    "with sqlite3.connect(\"bird_observations.db\") as conn:\n",
    "    df = pd.read_sql_query(\"SELECT Sky, Wind FROM observations\", conn)\n"
   ]
  },
  {
   "cell_type": "markdown",
   "id": "3f498d91",
   "metadata": {},
   "source": [
    "Bar Chart — Bird Observations by Sky Condition"
   ]
  },
  {
   "cell_type": "code",
   "execution_count": 106,
   "id": "01deacd5",
   "metadata": {},
   "outputs": [
    {
     "data": {
      "image/png": "[encoded data removed]",
      "text/plain": [
       "<Figure size 800x400 with 1 Axes>"
      ]
     },
     "metadata": {},
     "output_type": "display_data"
    }
   ],
   "source": [
    "plt.figure(figsize=(8, 4))\n",
    "df['Sky'].value_counts().plot(kind='bar', color='skyblue')\n",
    "plt.title(\"Bird Observations by Sky Condition\")\n",
    "plt.xlabel(\"Sky Condition\")\n",
    "plt.ylabel(\"Number of Observations\")\n",
    "plt.xticks(rotation=45)\n",
    "plt.tight_layout()\n",
    "plt.show()"
   ]
  },
  {
   "cell_type": "markdown",
   "id": "9764d07d",
   "metadata": {},
   "source": [
    "Bar Chart — Bird Observations by Wind Condition"
   ]
  },
  {
   "cell_type": "code",
   "execution_count": 107,
   "id": "84407eaa",
   "metadata": {},
   "outputs": [
    {
     "data": {
      "image/png": "[encoded data removed]",
      "text/plain": [
       "<Figure size 800x400 with 1 Axes>"
      ]
     },
     "metadata": {},
     "output_type": "display_data"
    }
   ],
   "source": [
    "plt.figure(figsize=(8, 4))\n",
    "df['Wind'].value_counts().plot(kind='bar', color='lightgreen')\n",
    "plt.title(\"Bird Observations by Wind Condition\")\n",
    "plt.xlabel(\"Wind Condition\")\n",
    "plt.ylabel(\"Number of Observations\")\n",
    "plt.xticks(rotation=45)\n",
    "plt.tight_layout()\n",
    "plt.show()"
   ]
  },
  {
   "cell_type": "markdown",
   "id": "a6dd0116",
   "metadata": {},
   "source": [
    "Heatmap — Sky vs. Wind Conditions"
   ]
  },
  {
   "cell_type": "code",
   "execution_count": null,
   "id": "0910c581",
   "metadata": {},
   "outputs": [],
   "source": []
  },
  {
   "cell_type": "code",
   "execution_count": 108,
   "id": "21de7662",
   "metadata": {},
   "outputs": [
    {
     "data": {
      "image/png": "[encoded data removed]",
      "text/plain": [
       "<Figure size 1000x600 with 2 Axes>"
      ]
     },
     "metadata": {},
     "output_type": "display_data"
    }
   ],
   "source": [
    "plt.figure(figsize=(10, 6))\n",
    "cross_tab = pd.crosstab(df['Sky'], df['Wind'])\n",
    "sns.heatmap(cross_tab, annot=True, fmt='d', cmap='YlGnBu')\n",
    "plt.title(\"Observation Count by Sky and Wind Conditions\")\n",
    "plt.xlabel(\"Wind\")\n",
    "plt.ylabel(\"Sky\")\n",
    "plt.tight_layout()\n",
    "plt.show()\n"
   ]
  }
 ],
 "metadata": {
  "kernelspec": {
   "display_name": ".venv",
   "language": "python",
   "name": "python3"
  },
  "language_info": {
   "codemirror_mode": {
    "name": "ipython",
    "version": 3
   },
   "file_extension": ".py",
   "mimetype": "text/x-python",
   "name": "python",
   "nbconvert_exporter": "python",
   "pygments_lexer": "ipython3",
   "version": "3.12.3"
  }
 },
 "nbformat": 4,
 "nbformat_minor": 5
}
